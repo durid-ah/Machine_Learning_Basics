{
 "cells": [
  {
   "cell_type": "code",
   "execution_count": null,
   "metadata": {},
   "outputs": [
    {
     "name": "stdout",
     "output_type": "stream",
     "text": [
      "Requirement already satisfied: PyDrive in c:\\users\\kobei\\anaconda3\\lib\\site-packages (1.3.1)\n",
      "Requirement already satisfied: google-api-python-client>=1.2 in c:\\users\\kobei\\anaconda3\\lib\\site-packages (from PyDrive) (1.7.11)\n",
      "Requirement already satisfied: oauth2client>=4.0.0 in c:\\users\\kobei\\anaconda3\\lib\\site-packages (from PyDrive) (4.1.3)\n",
      "Requirement already satisfied: PyYAML>=3.0 in c:\\users\\kobei\\anaconda3\\lib\\site-packages (from PyDrive) (5.1.1)\n",
      "Requirement already satisfied: google-auth>=1.4.1 in c:\\users\\kobei\\anaconda3\\lib\\site-packages (from google-api-python-client>=1.2->PyDrive) (1.7.2)\n",
      "Requirement already satisfied: six<2dev,>=1.6.1 in c:\\users\\kobei\\anaconda3\\lib\\site-packages (from google-api-python-client>=1.2->PyDrive) (1.12.0)\n",
      "Requirement already satisfied: google-auth-httplib2>=0.0.3 in c:\\users\\kobei\\anaconda3\\lib\\site-packages (from google-api-python-client>=1.2->PyDrive) (0.0.3)\n",
      "Requirement already satisfied: uritemplate<4dev,>=3.0.0 in c:\\users\\kobei\\anaconda3\\lib\\site-packages (from google-api-python-client>=1.2->PyDrive) (3.0.0)\n",
      "Requirement already satisfied: httplib2<1dev,>=0.9.2 in c:\\users\\kobei\\anaconda3\\lib\\site-packages (from google-api-python-client>=1.2->PyDrive) (0.14.0)\n",
      "Requirement already satisfied: pyasn1-modules>=0.0.5 in c:\\users\\kobei\\anaconda3\\lib\\site-packages (from oauth2client>=4.0.0->PyDrive) (0.2.7)\n",
      "Requirement already satisfied: pyasn1>=0.1.7 in c:\\users\\kobei\\anaconda3\\lib\\site-packages (from oauth2client>=4.0.0->PyDrive) (0.4.7)\n",
      "Requirement already satisfied: rsa>=3.1.4 in c:\\users\\kobei\\anaconda3\\lib\\site-packages (from oauth2client>=4.0.0->PyDrive) (4.0)\n",
      "Requirement already satisfied: setuptools>=40.3.0 in c:\\users\\kobei\\anaconda3\\lib\\site-packages (from google-auth>=1.4.1->google-api-python-client>=1.2->PyDrive) (41.0.1)\n",
      "Requirement already satisfied: cachetools<3.2,>=2.0.0 in c:\\users\\kobei\\anaconda3\\lib\\site-packages (from google-auth>=1.4.1->google-api-python-client>=1.2->PyDrive) (3.1.1)\n",
      "Requirement already satisfied: gensim in c:\\users\\kobei\\anaconda3\\lib\\site-packages (3.8.1)\n",
      "Requirement already satisfied: six>=1.5.0 in c:\\users\\kobei\\anaconda3\\lib\\site-packages (from gensim) (1.12.0)\n",
      "Requirement already satisfied: smart-open>=1.8.1 in c:\\users\\kobei\\anaconda3\\lib\\site-packages (from gensim) (1.9.0)\n",
      "Requirement already satisfied: scipy>=0.18.1 in c:\\users\\kobei\\anaconda3\\lib\\site-packages (from gensim) (1.2.1)\n",
      "Requirement already satisfied: numpy>=1.11.3 in c:\\users\\kobei\\anaconda3\\lib\\site-packages (from gensim) (1.16.4)\n",
      "Requirement already satisfied: boto3 in c:\\users\\kobei\\anaconda3\\lib\\site-packages (from smart-open>=1.8.1->gensim) (1.10.34)\n",
      "Requirement already satisfied: requests in c:\\users\\kobei\\anaconda3\\lib\\site-packages (from smart-open>=1.8.1->gensim) (2.22.0)\n",
      "Requirement already satisfied: boto>=2.32 in c:\\users\\kobei\\anaconda3\\lib\\site-packages (from smart-open>=1.8.1->gensim) (2.49.0)\n",
      "Requirement already satisfied: jmespath<1.0.0,>=0.7.1 in c:\\users\\kobei\\anaconda3\\lib\\site-packages (from boto3->smart-open>=1.8.1->gensim) (0.9.4)\n",
      "Requirement already satisfied: s3transfer<0.3.0,>=0.2.0 in c:\\users\\kobei\\anaconda3\\lib\\site-packages (from boto3->smart-open>=1.8.1->gensim) (0.2.1)\n",
      "Requirement already satisfied: botocore<1.14.0,>=1.13.34 in c:\\users\\kobei\\anaconda3\\lib\\site-packages (from boto3->smart-open>=1.8.1->gensim) (1.13.34)\n",
      "Requirement already satisfied: idna<2.9,>=2.5 in c:\\users\\kobei\\anaconda3\\lib\\site-packages (from requests->smart-open>=1.8.1->gensim) (2.8)\n",
      "Requirement already satisfied: chardet<3.1.0,>=3.0.2 in c:\\users\\kobei\\anaconda3\\lib\\site-packages (from requests->smart-open>=1.8.1->gensim) (3.0.4)\n",
      "Requirement already satisfied: certifi>=2017.4.17 in c:\\users\\kobei\\anaconda3\\lib\\site-packages (from requests->smart-open>=1.8.1->gensim) (2019.11.28)\n",
      "Requirement already satisfied: urllib3!=1.25.0,!=1.25.1,<1.26,>=1.21.1 in c:\\users\\kobei\\anaconda3\\lib\\site-packages (from requests->smart-open>=1.8.1->gensim) (1.24.2)\n",
      "Requirement already satisfied: docutils<0.16,>=0.10 in c:\\users\\kobei\\anaconda3\\lib\\site-packages (from botocore<1.14.0,>=1.13.34->boto3->smart-open>=1.8.1->gensim) (0.14)\n",
      "Requirement already satisfied: python-dateutil<2.8.1,>=2.1; python_version >= \"2.7\" in c:\\users\\kobei\\anaconda3\\lib\\site-packages (from botocore<1.14.0,>=1.13.34->boto3->smart-open>=1.8.1->gensim) (2.8.0)\n",
      "Requirement already satisfied: pyldavis in c:\\users\\kobei\\anaconda3\\lib\\site-packages (2.1.2)\n",
      "Requirement already satisfied: jinja2>=2.7.2 in c:\\users\\kobei\\anaconda3\\lib\\site-packages (from pyldavis) (2.10.1)\n",
      "Requirement already satisfied: numpy>=1.9.2 in c:\\users\\kobei\\anaconda3\\lib\\site-packages (from pyldavis) (1.16.4)\n",
      "Requirement already satisfied: wheel>=0.23.0 in c:\\users\\kobei\\anaconda3\\lib\\site-packages (from pyldavis) (0.33.4)\n",
      "Requirement already satisfied: pytest in c:\\users\\kobei\\anaconda3\\lib\\site-packages (from pyldavis) (5.0.1)\n",
      "Requirement already satisfied: numexpr in c:\\users\\kobei\\anaconda3\\lib\\site-packages (from pyldavis) (2.6.9)\n",
      "Requirement already satisfied: joblib>=0.8.4 in c:\\users\\kobei\\anaconda3\\lib\\site-packages (from pyldavis) (0.13.2)\n",
      "Requirement already satisfied: funcy in c:\\users\\kobei\\anaconda3\\lib\\site-packages (from pyldavis) (1.14)\n",
      "Requirement already satisfied: scipy>=0.18.0 in c:\\users\\kobei\\anaconda3\\lib\\site-packages (from pyldavis) (1.2.1)\n",
      "Requirement already satisfied: future in c:\\users\\kobei\\anaconda3\\lib\\site-packages (from pyldavis) (0.17.1)\n",
      "Requirement already satisfied: pandas>=0.17.0 in c:\\users\\kobei\\anaconda3\\lib\\site-packages (from pyldavis) (0.24.2)\n",
      "Requirement already satisfied: MarkupSafe>=0.23 in c:\\users\\kobei\\anaconda3\\lib\\site-packages (from jinja2>=2.7.2->pyldavis) (1.1.1)\n",
      "Requirement already satisfied: py>=1.5.0 in c:\\users\\kobei\\anaconda3\\lib\\site-packages (from pytest->pyldavis) (1.8.0)\n",
      "Requirement already satisfied: packaging in c:\\users\\kobei\\anaconda3\\lib\\site-packages (from pytest->pyldavis) (19.0)\n",
      "Requirement already satisfied: attrs>=17.4.0 in c:\\users\\kobei\\anaconda3\\lib\\site-packages (from pytest->pyldavis) (19.1.0)\n",
      "Requirement already satisfied: more-itertools>=4.0.0 in c:\\users\\kobei\\anaconda3\\lib\\site-packages (from pytest->pyldavis) (7.0.0)\n",
      "Requirement already satisfied: atomicwrites>=1.0 in c:\\users\\kobei\\anaconda3\\lib\\site-packages (from pytest->pyldavis) (1.3.0)\n",
      "Requirement already satisfied: pluggy<1.0,>=0.12 in c:\\users\\kobei\\anaconda3\\lib\\site-packages (from pytest->pyldavis) (0.12.0)\n",
      "Requirement already satisfied: importlib-metadata>=0.12 in c:\\users\\kobei\\anaconda3\\lib\\site-packages (from pytest->pyldavis) (1.2.0)\n",
      "Requirement already satisfied: wcwidth in c:\\users\\kobei\\anaconda3\\lib\\site-packages (from pytest->pyldavis) (0.1.7)\n",
      "Requirement already satisfied: colorama in c:\\users\\kobei\\anaconda3\\lib\\site-packages (from pytest->pyldavis) (0.4.1)\n",
      "Requirement already satisfied: pytz>=2011k in c:\\users\\kobei\\anaconda3\\lib\\site-packages (from pandas>=0.17.0->pyldavis) (2019.1)\n",
      "Requirement already satisfied: python-dateutil>=2.5.0 in c:\\users\\kobei\\anaconda3\\lib\\site-packages (from pandas>=0.17.0->pyldavis) (2.8.0)\n",
      "Requirement already satisfied: six in c:\\users\\kobei\\anaconda3\\lib\\site-packages (from packaging->pytest->pyldavis) (1.12.0)\n",
      "Requirement already satisfied: pyparsing>=2.0.2 in c:\\users\\kobei\\anaconda3\\lib\\site-packages (from packaging->pytest->pyldavis) (2.4.0)\n",
      "Requirement already satisfied: zipp>=0.5 in c:\\users\\kobei\\anaconda3\\lib\\site-packages (from importlib-metadata>=0.12->pytest->pyldavis) (0.5.1)\n",
      "Requirement already satisfied: spacy in c:\\users\\kobei\\anaconda3\\lib\\site-packages (2.2.3)\n",
      "Requirement already satisfied: preshed<3.1.0,>=3.0.2 in c:\\users\\kobei\\anaconda3\\lib\\site-packages (from spacy) (3.0.2)\n",
      "Requirement already satisfied: murmurhash<1.1.0,>=0.28.0 in c:\\users\\kobei\\anaconda3\\lib\\site-packages (from spacy) (1.0.2)\n",
      "Requirement already satisfied: cymem<2.1.0,>=2.0.2 in c:\\users\\kobei\\anaconda3\\lib\\site-packages (from spacy) (2.0.3)\n",
      "Requirement already satisfied: thinc<7.4.0,>=7.3.0 in c:\\users\\kobei\\anaconda3\\lib\\site-packages (from spacy) (7.3.1)\n",
      "Requirement already satisfied: srsly<1.1.0,>=0.1.0 in c:\\users\\kobei\\anaconda3\\lib\\site-packages (from spacy) (0.2.0)\n",
      "Requirement already satisfied: plac<1.2.0,>=0.9.6 in c:\\users\\kobei\\anaconda3\\lib\\site-packages (from spacy) (1.1.3)\n",
      "Requirement already satisfied: blis<0.5.0,>=0.4.0 in c:\\users\\kobei\\anaconda3\\lib\\site-packages (from spacy) (0.4.1)\n",
      "Requirement already satisfied: wasabi<1.1.0,>=0.4.0 in c:\\users\\kobei\\anaconda3\\lib\\site-packages (from spacy) (0.4.2)\n",
      "Requirement already satisfied: catalogue<1.1.0,>=0.0.7 in c:\\users\\kobei\\anaconda3\\lib\\site-packages (from spacy) (0.0.8)\n",
      "Requirement already satisfied: setuptools in c:\\users\\kobei\\anaconda3\\lib\\site-packages (from spacy) (41.0.1)\n",
      "Requirement already satisfied: requests<3.0.0,>=2.13.0 in c:\\users\\kobei\\anaconda3\\lib\\site-packages (from spacy) (2.22.0)\n",
      "Requirement already satisfied: numpy>=1.15.0 in c:\\users\\kobei\\anaconda3\\lib\\site-packages (from spacy) (1.16.4)\n",
      "Requirement already satisfied: tqdm<5.0.0,>=4.10.0 in c:\\users\\kobei\\anaconda3\\lib\\site-packages (from thinc<7.4.0,>=7.3.0->spacy) (4.32.1)\n",
      "Requirement already satisfied: importlib-metadata>=0.20; python_version < \"3.8\" in c:\\users\\kobei\\anaconda3\\lib\\site-packages (from catalogue<1.1.0,>=0.0.7->spacy) (1.2.0)\n",
      "Requirement already satisfied: idna<2.9,>=2.5 in c:\\users\\kobei\\anaconda3\\lib\\site-packages (from requests<3.0.0,>=2.13.0->spacy) (2.8)\n",
      "Requirement already satisfied: certifi>=2017.4.17 in c:\\users\\kobei\\anaconda3\\lib\\site-packages (from requests<3.0.0,>=2.13.0->spacy) (2019.11.28)\n",
      "Requirement already satisfied: chardet<3.1.0,>=3.0.2 in c:\\users\\kobei\\anaconda3\\lib\\site-packages (from requests<3.0.0,>=2.13.0->spacy) (3.0.4)\n",
      "Requirement already satisfied: urllib3!=1.25.0,!=1.25.1,<1.26,>=1.21.1 in c:\\users\\kobei\\anaconda3\\lib\\site-packages (from requests<3.0.0,>=2.13.0->spacy) (1.24.2)\n",
      "Requirement already satisfied: zipp>=0.5 in c:\\users\\kobei\\anaconda3\\lib\\site-packages (from importlib-metadata>=0.20; python_version < \"3.8\"->catalogue<1.1.0,>=0.0.7->spacy) (0.5.1)\n",
      "Requirement already satisfied: en_core_web_sm==2.2.0 from https://github.com/explosion/spacy-models/releases/download/en_core_web_sm-2.2.0/en_core_web_sm-2.2.0.tar.gz#egg=en_core_web_sm==2.2.0 in c:\\users\\kobei\\anaconda3\\lib\\site-packages (2.2.0)\n",
      "Requirement already satisfied: spacy>=2.2.0 in c:\\users\\kobei\\anaconda3\\lib\\site-packages (from en_core_web_sm==2.2.0) (2.2.3)\n",
      "Requirement already satisfied: blis<0.5.0,>=0.4.0 in c:\\users\\kobei\\anaconda3\\lib\\site-packages (from spacy>=2.2.0->en_core_web_sm==2.2.0) (0.4.1)\n",
      "Requirement already satisfied: setuptools in c:\\users\\kobei\\anaconda3\\lib\\site-packages (from spacy>=2.2.0->en_core_web_sm==2.2.0) (41.0.1)\n",
      "Requirement already satisfied: wasabi<1.1.0,>=0.4.0 in c:\\users\\kobei\\anaconda3\\lib\\site-packages (from spacy>=2.2.0->en_core_web_sm==2.2.0) (0.4.2)\n",
      "Requirement already satisfied: requests<3.0.0,>=2.13.0 in c:\\users\\kobei\\anaconda3\\lib\\site-packages (from spacy>=2.2.0->en_core_web_sm==2.2.0) (2.22.0)\n",
      "Requirement already satisfied: srsly<1.1.0,>=0.1.0 in c:\\users\\kobei\\anaconda3\\lib\\site-packages (from spacy>=2.2.0->en_core_web_sm==2.2.0) (0.2.0)\n",
      "Requirement already satisfied: cymem<2.1.0,>=2.0.2 in c:\\users\\kobei\\anaconda3\\lib\\site-packages (from spacy>=2.2.0->en_core_web_sm==2.2.0) (2.0.3)\n",
      "Requirement already satisfied: murmurhash<1.1.0,>=0.28.0 in c:\\users\\kobei\\anaconda3\\lib\\site-packages (from spacy>=2.2.0->en_core_web_sm==2.2.0) (1.0.2)\n",
      "Requirement already satisfied: numpy>=1.15.0 in c:\\users\\kobei\\anaconda3\\lib\\site-packages (from spacy>=2.2.0->en_core_web_sm==2.2.0) (1.16.4)\n",
      "Requirement already satisfied: plac<1.2.0,>=0.9.6 in c:\\users\\kobei\\anaconda3\\lib\\site-packages (from spacy>=2.2.0->en_core_web_sm==2.2.0) (1.1.3)\n",
      "Requirement already satisfied: catalogue<1.1.0,>=0.0.7 in c:\\users\\kobei\\anaconda3\\lib\\site-packages (from spacy>=2.2.0->en_core_web_sm==2.2.0) (0.0.8)\n",
      "Requirement already satisfied: preshed<3.1.0,>=3.0.2 in c:\\users\\kobei\\anaconda3\\lib\\site-packages (from spacy>=2.2.0->en_core_web_sm==2.2.0) (3.0.2)\n",
      "Requirement already satisfied: thinc<7.4.0,>=7.3.0 in c:\\users\\kobei\\anaconda3\\lib\\site-packages (from spacy>=2.2.0->en_core_web_sm==2.2.0) (7.3.1)\n",
      "Requirement already satisfied: urllib3!=1.25.0,!=1.25.1,<1.26,>=1.21.1 in c:\\users\\kobei\\anaconda3\\lib\\site-packages (from requests<3.0.0,>=2.13.0->spacy>=2.2.0->en_core_web_sm==2.2.0) (1.24.2)\n",
      "Requirement already satisfied: certifi>=2017.4.17 in c:\\users\\kobei\\anaconda3\\lib\\site-packages (from requests<3.0.0,>=2.13.0->spacy>=2.2.0->en_core_web_sm==2.2.0) (2019.11.28)\n",
      "Requirement already satisfied: chardet<3.1.0,>=3.0.2 in c:\\users\\kobei\\anaconda3\\lib\\site-packages (from requests<3.0.0,>=2.13.0->spacy>=2.2.0->en_core_web_sm==2.2.0) (3.0.4)\n",
      "Requirement already satisfied: idna<2.9,>=2.5 in c:\\users\\kobei\\anaconda3\\lib\\site-packages (from requests<3.0.0,>=2.13.0->spacy>=2.2.0->en_core_web_sm==2.2.0) (2.8)\n",
      "Requirement already satisfied: importlib-metadata>=0.20; python_version < \"3.8\" in c:\\users\\kobei\\anaconda3\\lib\\site-packages (from catalogue<1.1.0,>=0.0.7->spacy>=2.2.0->en_core_web_sm==2.2.0) (1.2.0)\n",
      "Requirement already satisfied: tqdm<5.0.0,>=4.10.0 in c:\\users\\kobei\\anaconda3\\lib\\site-packages (from thinc<7.4.0,>=7.3.0->spacy>=2.2.0->en_core_web_sm==2.2.0) (4.32.1)\n",
      "Requirement already satisfied: zipp>=0.5 in c:\\users\\kobei\\anaconda3\\lib\\site-packages (from importlib-metadata>=0.20; python_version < \"3.8\"->catalogue<1.1.0,>=0.0.7->spacy>=2.2.0->en_core_web_sm==2.2.0) (0.5.1)\n",
      "[+] Download and installation successful\n",
      "You can now load the model via spacy.load('en_core_web_sm')\n"
     ]
    }
   ],
   "source": [
    "!pip install PyDrive\n",
    "!pip install gensim\n",
    "!pip install pyldavis\n",
    "!pip install spacy\n",
    "!python -m spacy download en_core_web_sm\n",
    "!pip3 install https://github.com/explosion/spacy-models/releases/download/en_core_web_sm-2.2.0/en_core_web_sm-2.2.0.tar.gz"
   ]
  },
  {
   "cell_type": "code",
   "execution_count": 1,
   "metadata": {},
   "outputs": [
    {
     "name": "stderr",
     "output_type": "stream",
     "text": [
      "[nltk_data] Downloading package stopwords to\n",
      "[nltk_data]     C:\\Users\\kobei\\AppData\\Roaming\\nltk_data...\n",
      "[nltk_data]   Package stopwords is already up-to-date!\n"
     ]
    },
    {
     "data": {
      "text/plain": [
       "True"
      ]
     },
     "execution_count": 1,
     "metadata": {},
     "output_type": "execute_result"
    }
   ],
   "source": [
    "import os\n",
    "import nltk\n",
    "from nltk import FreqDist\n",
    "nltk.download('stopwords')"
   ]
  },
  {
   "cell_type": "code",
   "execution_count": 2,
   "metadata": {},
   "outputs": [],
   "source": [
    "import pandas as pd\n",
    "pd.set_option(\"display.max_colwidth\", 200)\n",
    "import numpy as np\n",
    "import json\n",
    "import re\n",
    "import gzip\n",
    "import spacy\n",
    "\n",
    "import gensim\n",
    "from gensim import corpora\n",
    "\n",
    "import pyLDAvis\n",
    "import pyLDAvis.gensim\n",
    "import matplotlib.pyplot as plt\n",
    "import seaborn as sns\n",
    "%matplotlib inline"
   ]
  },
  {
   "cell_type": "code",
   "execution_count": 3,
   "metadata": {},
   "outputs": [],
   "source": [
    "def parse(path):\n",
    "  g = gzip.open(path, 'rb')\n",
    "  for l in g:\n",
    "    yield eval(l)\n",
    "\n",
    "def getDF(path):\n",
    "  i = 0\n",
    "  df = {}\n",
    "  for d in parse(path):\n",
    "    df[i] = d\n",
    "    i += 1\n",
    "  return pd.DataFrame.from_dict(df, orient='index')\n",
    "\n",
    "df = getDF('reviews_Health_and_Personal_Care_5.json.gz')"
   ]
  },
  {
   "cell_type": "code",
   "execution_count": 4,
   "metadata": {},
   "outputs": [
    {
     "data": {
      "text/html": [
       "<div>\n",
       "<style scoped>\n",
       "    .dataframe tbody tr th:only-of-type {\n",
       "        vertical-align: middle;\n",
       "    }\n",
       "\n",
       "    .dataframe tbody tr th {\n",
       "        vertical-align: top;\n",
       "    }\n",
       "\n",
       "    .dataframe thead th {\n",
       "        text-align: right;\n",
       "    }\n",
       "</style>\n",
       "<table border=\"1\" class=\"dataframe\">\n",
       "  <thead>\n",
       "    <tr style=\"text-align: right;\">\n",
       "      <th></th>\n",
       "      <th>reviewerID</th>\n",
       "      <th>asin</th>\n",
       "      <th>reviewerName</th>\n",
       "      <th>helpful</th>\n",
       "      <th>reviewText</th>\n",
       "      <th>overall</th>\n",
       "      <th>summary</th>\n",
       "      <th>unixReviewTime</th>\n",
       "      <th>reviewTime</th>\n",
       "    </tr>\n",
       "  </thead>\n",
       "  <tbody>\n",
       "    <tr>\n",
       "      <th>0</th>\n",
       "      <td>ALC5GH8CAMAI7</td>\n",
       "      <td>159985130X</td>\n",
       "      <td>AnnN</td>\n",
       "      <td>[1, 1]</td>\n",
       "      <td>This is a great little gadget to have around.  We've already used it to look for splinters and a few other uses.  The light is great.  It's a handy size.  However, I do wish I'd bought one with a ...</td>\n",
       "      <td>5.0</td>\n",
       "      <td>Handy little gadget</td>\n",
       "      <td>1294185600</td>\n",
       "      <td>01 5, 2011</td>\n",
       "    </tr>\n",
       "    <tr>\n",
       "      <th>1</th>\n",
       "      <td>AHKSURW85PJUE</td>\n",
       "      <td>159985130X</td>\n",
       "      <td>AZ buyer \"AZ buyer\"</td>\n",
       "      <td>[1, 1]</td>\n",
       "      <td>I would recommend this for a travel magnifier for the occasional reading.I had read on another review about a magnifier having a problem with the light coming on. I did find that this one appeared...</td>\n",
       "      <td>4.0</td>\n",
       "      <td>Small &amp; may need to encourage battery</td>\n",
       "      <td>1329523200</td>\n",
       "      <td>02 18, 2012</td>\n",
       "    </tr>\n",
       "    <tr>\n",
       "      <th>2</th>\n",
       "      <td>A38RMU1Y5TDP9</td>\n",
       "      <td>159985130X</td>\n",
       "      <td>Bob Tobias \"Robert Tobias\"</td>\n",
       "      <td>[75, 77]</td>\n",
       "      <td>What I liked was the quality of the lens and the built in light.  Then lens had no discernable distortion anywhere.  It magnified everything evenly without the ripples and  distortion that I've se...</td>\n",
       "      <td>4.0</td>\n",
       "      <td>Very good but not great</td>\n",
       "      <td>1275955200</td>\n",
       "      <td>06 8, 2010</td>\n",
       "    </tr>\n",
       "    <tr>\n",
       "      <th>3</th>\n",
       "      <td>A1XZUG7DFXXOS4</td>\n",
       "      <td>159985130X</td>\n",
       "      <td>Cat lover</td>\n",
       "      <td>[56, 60]</td>\n",
       "      <td>Love the Great point light pocket magnifier!  works great, especially if you forget your glasses and can't read the menu when you are out for dinner.... the light is a bonus in a dark restaurant, ...</td>\n",
       "      <td>4.0</td>\n",
       "      <td>great addition to your purse</td>\n",
       "      <td>1202428800</td>\n",
       "      <td>02 8, 2008</td>\n",
       "    </tr>\n",
       "    <tr>\n",
       "      <th>4</th>\n",
       "      <td>A1MS3M7M7AM13X</td>\n",
       "      <td>159985130X</td>\n",
       "      <td>Cricketoes</td>\n",
       "      <td>[1, 1]</td>\n",
       "      <td>This is very nice. You pull out on the magnifier when you want the light to come on, then slide it back in. I would recommend buying this if you need something with a light that you can easily put...</td>\n",
       "      <td>5.0</td>\n",
       "      <td>Very nice and convenient.</td>\n",
       "      <td>1313452800</td>\n",
       "      <td>08 16, 2011</td>\n",
       "    </tr>\n",
       "  </tbody>\n",
       "</table>\n",
       "</div>"
      ],
      "text/plain": [
       "       reviewerID        asin                reviewerName   helpful  \\\n",
       "0   ALC5GH8CAMAI7  159985130X                        AnnN    [1, 1]   \n",
       "1   AHKSURW85PJUE  159985130X         AZ buyer \"AZ buyer\"    [1, 1]   \n",
       "2   A38RMU1Y5TDP9  159985130X  Bob Tobias \"Robert Tobias\"  [75, 77]   \n",
       "3  A1XZUG7DFXXOS4  159985130X                   Cat lover  [56, 60]   \n",
       "4  A1MS3M7M7AM13X  159985130X                  Cricketoes    [1, 1]   \n",
       "\n",
       "                                                                                                                                                                                                reviewText  \\\n",
       "0  This is a great little gadget to have around.  We've already used it to look for splinters and a few other uses.  The light is great.  It's a handy size.  However, I do wish I'd bought one with a ...   \n",
       "1  I would recommend this for a travel magnifier for the occasional reading.I had read on another review about a magnifier having a problem with the light coming on. I did find that this one appeared...   \n",
       "2  What I liked was the quality of the lens and the built in light.  Then lens had no discernable distortion anywhere.  It magnified everything evenly without the ripples and  distortion that I've se...   \n",
       "3  Love the Great point light pocket magnifier!  works great, especially if you forget your glasses and can't read the menu when you are out for dinner.... the light is a bonus in a dark restaurant, ...   \n",
       "4  This is very nice. You pull out on the magnifier when you want the light to come on, then slide it back in. I would recommend buying this if you need something with a light that you can easily put...   \n",
       "\n",
       "   overall                                summary  unixReviewTime   reviewTime  \n",
       "0      5.0                    Handy little gadget      1294185600   01 5, 2011  \n",
       "1      4.0  Small & may need to encourage battery      1329523200  02 18, 2012  \n",
       "2      4.0                Very good but not great      1275955200   06 8, 2010  \n",
       "3      4.0           great addition to your purse      1202428800   02 8, 2008  \n",
       "4      5.0              Very nice and convenient.      1313452800  08 16, 2011  "
      ]
     },
     "execution_count": 4,
     "metadata": {},
     "output_type": "execute_result"
    }
   ],
   "source": [
    "df.head()"
   ]
  },
  {
   "cell_type": "code",
   "execution_count": 5,
   "metadata": {},
   "outputs": [],
   "source": [
    "def freq_words(x, terms = 20):\n",
    "  all_words = ' '.join([text for text in x])\n",
    "  all_words = all_words.split()\n",
    "  \n",
    "  fdist = FreqDist(all_words)\n",
    "  words_df = pd.DataFrame({'word':list(fdist.keys()), 'count':list(fdist.values())})\n",
    "  \n",
    "  # selecting top 20 most frequent words\n",
    "  d = words_df.nlargest(columns=\"count\", n = terms) \n",
    "  plt.figure(figsize=(20,5))\n",
    "  ax = sns.barplot(data=d, x= \"word\", y = \"count\")\n",
    "  ax.set(ylabel = 'Count')\n",
    "  plt.show()"
   ]
  },
  {
   "cell_type": "code",
   "execution_count": 6,
   "metadata": {},
   "outputs": [
    {
     "data": {
      "image/png": "[encoded data removed]",
      "text/plain": [
       "<Figure size 1440x360 with 1 Axes>"
      ]
     },
     "metadata": {
      "needs_background": "light"
     },
     "output_type": "display_data"
    }
   ],
   "source": [
    "# replace \"n't\" with \" not\"\n",
    "df['reviewText'] = df['reviewText'].str.replace(\"n\\'t\", \" not\")\n",
    "\n",
    "# remove unwanted characters, numbers and symbols\n",
    "df['reviewText'] = df['reviewText'].str.replace(\"[^a-zA-Z#]\", \" \")\n",
    "\n",
    "freq_words(df['reviewText'])"
   ]
  },
  {
   "cell_type": "code",
   "execution_count": 7,
   "metadata": {},
   "outputs": [],
   "source": [
    "from nltk.corpus import stopwords\n",
    "stop_words = stopwords.words('english')"
   ]
  },
  {
   "cell_type": "code",
   "execution_count": 8,
   "metadata": {},
   "outputs": [],
   "source": [
    "# function to remove stopwords\n",
    "def remove_stopwords(rev):\n",
    "  rev_new = \" \".join([i for i in rev if i not in stop_words])\n",
    "  return rev_new"
   ]
  },
  {
   "cell_type": "code",
   "execution_count": 9,
   "metadata": {},
   "outputs": [],
   "source": [
    "# remove short words (length < 4)\n",
    "df['reviewText'] = df['reviewText'].apply(lambda x: ' '.join([w for w in x.split() if len(w)>3]))\n",
    "\n",
    "# remove stopwords from the text\n",
    "reviews = [remove_stopwords(r.split()) for r in df['reviewText']]\n",
    "\n",
    "# make entire text lowercase\n",
    "reviews = [r.lower() for r in reviews]"
   ]
  },
  {
   "cell_type": "code",
   "execution_count": 10,
   "metadata": {
    "scrolled": true
   },
   "outputs": [
    {
     "data": {
      "image/png": "[encoded data removed]",
      "text/plain": [
       "<Figure size 1440x360 with 1 Axes>"
      ]
     },
     "metadata": {
      "needs_background": "light"
     },
     "output_type": "display_data"
    }
   ],
   "source": [
    "freq_words(reviews, 20)"
   ]
  },
  {
   "cell_type": "code",
   "execution_count": 11,
   "metadata": {},
   "outputs": [],
   "source": [
    "nlp = spacy.load('en_core_web_sm', disable=['parser', 'ner'])"
   ]
  },
  {
   "cell_type": "code",
   "execution_count": 12,
   "metadata": {},
   "outputs": [],
   "source": [
    "def lemmatization(texts, tags=['NOUN', 'ADJ']):\n",
    "    output = []\n",
    "    for sent in texts:\n",
    "        doc = nlp(\" \".join(sent)) \n",
    "        output.append([token.lemma_ for token in doc if token.pos_ in tags])\n",
    "    return output"
   ]
  },
  {
   "cell_type": "code",
   "execution_count": 13,
   "metadata": {},
   "outputs": [
    {
     "name": "stdout",
     "output_type": "stream",
     "text": [
      "['would', 'recommend', 'travel', 'magnifier', 'occasional', 'reading', 'read', 'another', 'review', 'magnifier', 'problem', 'light', 'coming', 'find', 'appeared', 'opening', 'shutting', 'viewer', 'turn', 'light', 'light', 'began', 'come', 'after', 'several', 'times', 'light', 'appears', 'coming', 'time', 'small', 'taking', 'someplace', 'reading', 'things', 'like', 'menu', 'dark', 'corner', 'restaurant', 'great']\n"
     ]
    }
   ],
   "source": [
    "tokenized_reviews = pd.Series(reviews).apply(lambda x: x.split())\n",
    "print(tokenized_reviews[1])"
   ]
  },
  {
   "cell_type": "code",
   "execution_count": 14,
   "metadata": {},
   "outputs": [
    {
     "name": "stdout",
     "output_type": "stream",
     "text": [
      "['magnifi', 'occasional', 'reading', 'review', 'magnifi', 'problem', 'light', 'view', 'turn', 'light', 'light', 'several', 'time', 'light', 'time', 'small', 'someplace', 'thing', 'menu', 'dark', 'corner', 'restaurant', 'great']\n"
     ]
    }
   ],
   "source": [
    "reviews_2 = lemmatization(tokenized_reviews)\n",
    "print(reviews_2[1])"
   ]
  },
  {
   "cell_type": "code",
   "execution_count": 15,
   "metadata": {},
   "outputs": [
    {
     "data": {
      "text/plain": [
       "{'after',\n",
       " 'another',\n",
       " 'appeared',\n",
       " 'appears',\n",
       " 'began',\n",
       " 'come',\n",
       " 'coming',\n",
       " 'find',\n",
       " 'like',\n",
       " 'magnifier',\n",
       " 'opening',\n",
       " 'read',\n",
       " 'recommend',\n",
       " 'shutting',\n",
       " 'taking',\n",
       " 'things',\n",
       " 'times',\n",
       " 'travel',\n",
       " 'viewer',\n",
       " 'would'}"
      ]
     },
     "execution_count": 15,
     "metadata": {},
     "output_type": "execute_result"
    }
   ],
   "source": [
    "set(tokenized_reviews[1]) - set(reviews_2[1])"
   ]
  },
  {
   "cell_type": "code",
   "execution_count": 16,
   "metadata": {},
   "outputs": [],
   "source": [
    "reviews_3 = []\n",
    "for i in range(len(reviews_2)):\n",
    "    reviews_3.append(' '.join(reviews_2[i]))\n",
    "    \n",
    "df['reviews'] = reviews_3"
   ]
  },
  {
   "cell_type": "code",
   "execution_count": 17,
   "metadata": {
    "scrolled": true
   },
   "outputs": [
    {
     "data": {
      "image/png": "[encoded data removed]",
      "text/plain": [
       "<Figure size 1440x360 with 1 Axes>"
      ]
     },
     "metadata": {
      "needs_background": "light"
     },
     "output_type": "display_data"
    }
   ],
   "source": [
    "freq_words(df['reviews'], 20)"
   ]
  },
  {
   "cell_type": "code",
   "execution_count": 18,
   "metadata": {},
   "outputs": [],
   "source": [
    "# Create the term dictionary of our corpus, where every unique term is assigned an index\n",
    "dictionary = corpora.Dictionary(reviews_2)"
   ]
  },
  {
   "cell_type": "code",
   "execution_count": 19,
   "metadata": {},
   "outputs": [],
   "source": [
    "# Convert list of reviews (reviews_2) into a Document Term Matrix using the dictionary prepared above.\n",
    "doc_term_matrix = [dictionary.doc2bow(rev) for rev in reviews_2]"
   ]
  },
  {
   "cell_type": "code",
   "execution_count": 20,
   "metadata": {},
   "outputs": [],
   "source": [
    "# Creating the object for LDA model using gensim library\n",
    "LDA = gensim.models.ldamodel.LdaModel"
   ]
  },
  {
   "cell_type": "code",
   "execution_count": 21,
   "metadata": {},
   "outputs": [],
   "source": [
    "# Build LDA model\n",
    "lda_model = LDA(corpus=doc_term_matrix,\n",
    "                id2word=dictionary,\n",
    "                num_topics=7, \n",
    "                random_state=100,\n",
    "                chunksize=1000,\n",
    "                passes=50)"
   ]
  },
  {
   "cell_type": "code",
   "execution_count": 22,
   "metadata": {},
   "outputs": [
    {
     "data": {
      "text/plain": [
       "[(0,\n",
       "  '0.042*\"product\" + 0.033*\"pill\" + 0.028*\"energy\" + 0.023*\"vitamin\" + 0.022*\"effect\" + 0.013*\"sleep\" + 0.012*\"good\" + 0.012*\"natural\" + 0.011*\"side\" + 0.010*\"capsule\"'),\n",
       " (1,\n",
       "  '0.037*\"clean\" + 0.018*\"water\" + 0.018*\"tooth\" + 0.016*\"brush\" + 0.014*\"small\" + 0.012*\"great\" + 0.012*\"easy\" + 0.010*\"product\" + 0.010*\"little\" + 0.010*\"white\"'),\n",
       " (2,\n",
       "  '0.048*\"time\" + 0.025*\"week\" + 0.020*\"product\" + 0.019*\"work\" + 0.018*\"first\" + 0.018*\"review\" + 0.016*\"result\" + 0.015*\"thing\" + 0.015*\"day\" + 0.014*\"ingredient\"'),\n",
       " (3,\n",
       "  '0.029*\"price\" + 0.026*\"good\" + 0.024*\"battery\" + 0.020*\"product\" + 0.020*\"great\" + 0.013*\"brand\" + 0.013*\"quality\" + 0.012*\"easy\" + 0.012*\"unit\" + 0.010*\"device\"'),\n",
       " (4,\n",
       "  '0.055*\"product\" + 0.037*\"supplement\" + 0.018*\"skin\" + 0.017*\"good\" + 0.015*\"great\" + 0.015*\"pain\" + 0.014*\"deodorant\" + 0.011*\"body\" + 0.010*\"smell\" + 0.009*\"health\"'),\n",
       " (5,\n",
       "  '0.037*\"scent\" + 0.035*\"razor\" + 0.034*\"hair\" + 0.023*\"shave\" + 0.020*\"blade\" + 0.017*\"good\" + 0.017*\"head\" + 0.014*\"trimmer\" + 0.014*\"close\" + 0.012*\"skin\"'),\n",
       " (6,\n",
       "  '0.072*\"weight\" + 0.031*\"product\" + 0.027*\"pound\" + 0.026*\"good\" + 0.026*\"loss\" + 0.024*\"great\" + 0.023*\"taste\" + 0.020*\"food\" + 0.014*\"workout\" + 0.014*\"scale\"')]"
      ]
     },
     "execution_count": 22,
     "metadata": {},
     "output_type": "execute_result"
    }
   ],
   "source": [
    "lda_model.print_topics()"
   ]
  },
  {
   "cell_type": "code",
   "execution_count": 23,
   "metadata": {},
   "outputs": [
    {
     "name": "stderr",
     "output_type": "stream",
     "text": [
      "C:\\Users\\kobei\\Anaconda3\\lib\\site-packages\\pyLDAvis\\_prepare.py:257: FutureWarning: Sorting because non-concatenation axis is not aligned. A future version\n",
      "of pandas will change to not sort by default.\n",
      "\n",
      "To accept the future behavior, pass 'sort=False'.\n",
      "\n",
      "To retain the current behavior and silence the warning, pass 'sort=True'.\n",
      "\n",
      "  return pd.concat([default_term_info] + list(topic_dfs))\n"
     ]
    },
    {
     "data": {
      "text/html": [
       "\n",
       "<link rel=\"stylesheet\" type=\"text/css\" href=\"https://cdn.rawgit.com/bmabey/pyLDAvis/files/ldavis.v1.0.0.css\">\n",
       "\n",
       "\n",
       "<div id=\"ldavis_el1187624856078264402662272506\"></div>\n",
       "<script type=\"text/javascript\">\n",
       "\n",
       "var ldavis_el1187624856078264402662272506_data = {\"mdsDat\": {\"x\": [0.04550414374278607, -0.046115021842964336, -0.07122006424197935, -0.1339611601494514, 0.22183939462134633, -0.23045292581910518, 0.21440563368936794], \"y\": [0.035412461719858235, -0.2687309492797454, -0.02787992208753162, 0.18973442769321125, -0.13867266682109608, 0.010933663997937952, 0.19920298477736562], \"topics\": [1, 2, 3, 4, 5, 6, 7], \"cluster\": [1, 1, 1, 1, 1, 1, 1], \"Freq\": [17.40151023864746, 17.19069480895996, 16.487430572509766, 14.014908790588379, 13.648599624633789, 10.995737075805664, 10.261117935180664]}, \"tinfo\": {\"Category\": [\"Default\", \"Default\", \"Default\", \"Default\", \"Default\", \"Default\", \"Default\", \"Default\", \"Default\", \"Default\", \"Default\", \"Default\", \"Default\", \"Default\", \"Default\", \"Default\", \"Default\", \"Default\", \"Default\", \"Default\", \"Default\", \"Default\", \"Default\", \"Default\", \"Default\", \"Default\", \"Default\", \"Default\", \"Default\", \"Default\", \"Topic1\", \"Topic1\", \"Topic1\", \"Topic1\", \"Topic1\", \"Topic1\", \"Topic1\", \"Topic1\", \"Topic1\", \"Topic1\", \"Topic1\", \"Topic1\", \"Topic1\", \"Topic1\", \"Topic1\", \"Topic1\", \"Topic1\", \"Topic1\", \"Topic1\", \"Topic1\", \"Topic1\", \"Topic1\", \"Topic1\", \"Topic1\", \"Topic1\", \"Topic1\", \"Topic1\", \"Topic1\", \"Topic1\", \"Topic1\", \"Topic1\", \"Topic1\", \"Topic1\", \"Topic1\", \"Topic1\", \"Topic1\", \"Topic1\", \"Topic1\", \"Topic1\", \"Topic1\", \"Topic1\", \"Topic1\", \"Topic1\", \"Topic1\", \"Topic1\", \"Topic1\", \"Topic1\", \"Topic1\", \"Topic1\", \"Topic1\", \"Topic2\", \"Topic2\", \"Topic2\", \"Topic2\", \"Topic2\", \"Topic2\", \"Topic2\", \"Topic2\", \"Topic2\", \"Topic2\", \"Topic2\", \"Topic2\", \"Topic2\", \"Topic2\", \"Topic2\", \"Topic2\", \"Topic2\", \"Topic2\", \"Topic2\", \"Topic2\", \"Topic2\", \"Topic2\", \"Topic2\", \"Topic2\", \"Topic2\", \"Topic2\", \"Topic2\", \"Topic2\", \"Topic2\", \"Topic2\", \"Topic2\", \"Topic2\", \"Topic2\", \"Topic2\", \"Topic2\", \"Topic2\", \"Topic2\", \"Topic2\", \"Topic2\", \"Topic2\", \"Topic2\", \"Topic2\", \"Topic2\", \"Topic2\", \"Topic2\", \"Topic2\", \"Topic2\", \"Topic2\", \"Topic2\", \"Topic2\", \"Topic2\", \"Topic2\", \"Topic2\", \"Topic2\", \"Topic2\", \"Topic2\", \"Topic2\", \"Topic2\", \"Topic2\", \"Topic3\", \"Topic3\", \"Topic3\", \"Topic3\", \"Topic3\", \"Topic3\", \"Topic3\", \"Topic3\", \"Topic3\", \"Topic3\", \"Topic3\", \"Topic3\", \"Topic3\", \"Topic3\", \"Topic3\", \"Topic3\", \"Topic3\", \"Topic3\", \"Topic3\", \"Topic3\", \"Topic3\", \"Topic3\", \"Topic3\", \"Topic3\", \"Topic3\", \"Topic3\", \"Topic3\", \"Topic3\", \"Topic3\", \"Topic3\", \"Topic3\", \"Topic3\", \"Topic3\", \"Topic3\", \"Topic3\", \"Topic3\", \"Topic3\", \"Topic3\", \"Topic3\", \"Topic3\", \"Topic3\", \"Topic3\", \"Topic3\", \"Topic3\", \"Topic3\", \"Topic3\", \"Topic3\", \"Topic3\", \"Topic3\", \"Topic3\", \"Topic3\", \"Topic3\", \"Topic3\", \"Topic3\", \"Topic3\", \"Topic3\", \"Topic3\", \"Topic4\", \"Topic4\", \"Topic4\", \"Topic4\", \"Topic4\", \"Topic4\", \"Topic4\", \"Topic4\", \"Topic4\", \"Topic4\", \"Topic4\", \"Topic4\", \"Topic4\", \"Topic4\", \"Topic4\", \"Topic4\", \"Topic4\", \"Topic4\", \"Topic4\", \"Topic4\", \"Topic4\", \"Topic4\", \"Topic4\", \"Topic4\", \"Topic4\", \"Topic4\", \"Topic4\", \"Topic4\", \"Topic4\", \"Topic4\", \"Topic4\", \"Topic4\", \"Topic4\", \"Topic4\", \"Topic4\", \"Topic4\", \"Topic4\", \"Topic4\", \"Topic4\", \"Topic4\", \"Topic4\", \"Topic4\", \"Topic4\", \"Topic4\", \"Topic4\", \"Topic4\", \"Topic4\", \"Topic4\", \"Topic4\", \"Topic4\", \"Topic4\", \"Topic4\", \"Topic4\", \"Topic4\", \"Topic4\", \"Topic4\", \"Topic5\", \"Topic5\", \"Topic5\", \"Topic5\", \"Topic5\", \"Topic5\", \"Topic5\", \"Topic5\", \"Topic5\", \"Topic5\", \"Topic5\", \"Topic5\", \"Topic5\", \"Topic5\", \"Topic5\", \"Topic5\", \"Topic5\", \"Topic5\", \"Topic5\", \"Topic5\", \"Topic5\", \"Topic5\", \"Topic5\", \"Topic5\", \"Topic5\", \"Topic5\", \"Topic5\", \"Topic5\", \"Topic5\", \"Topic5\", \"Topic5\", \"Topic5\", \"Topic5\", \"Topic5\", \"Topic5\", \"Topic5\", \"Topic5\", \"Topic5\", \"Topic5\", \"Topic5\", \"Topic5\", \"Topic5\", \"Topic5\", \"Topic5\", \"Topic5\", \"Topic5\", \"Topic5\", \"Topic5\", \"Topic5\", \"Topic5\", \"Topic5\", \"Topic5\", \"Topic5\", \"Topic5\", \"Topic5\", \"Topic6\", \"Topic6\", \"Topic6\", \"Topic6\", \"Topic6\", \"Topic6\", \"Topic6\", \"Topic6\", \"Topic6\", \"Topic6\", \"Topic6\", \"Topic6\", \"Topic6\", \"Topic6\", \"Topic6\", \"Topic6\", \"Topic6\", \"Topic6\", \"Topic6\", \"Topic6\", \"Topic6\", \"Topic6\", \"Topic6\", \"Topic6\", \"Topic6\", \"Topic6\", \"Topic6\", \"Topic6\", \"Topic6\", \"Topic6\", \"Topic6\", \"Topic6\", \"Topic6\", \"Topic6\", \"Topic6\", \"Topic6\", \"Topic6\", \"Topic6\", \"Topic6\", \"Topic6\", \"Topic6\", \"Topic6\", \"Topic6\", \"Topic6\", \"Topic6\", \"Topic6\", \"Topic6\", \"Topic6\", \"Topic6\", \"Topic6\", \"Topic6\", \"Topic7\", \"Topic7\", \"Topic7\", \"Topic7\", \"Topic7\", \"Topic7\", \"Topic7\", \"Topic7\", \"Topic7\", \"Topic7\", \"Topic7\", \"Topic7\", \"Topic7\", \"Topic7\", \"Topic7\", \"Topic7\", \"Topic7\", \"Topic7\", \"Topic7\", \"Topic7\", \"Topic7\", \"Topic7\", \"Topic7\", \"Topic7\", \"Topic7\", \"Topic7\", \"Topic7\", \"Topic7\", \"Topic7\", \"Topic7\", \"Topic7\", \"Topic7\", \"Topic7\", \"Topic7\", \"Topic7\", \"Topic7\", \"Topic7\", \"Topic7\", \"Topic7\", \"Topic7\", \"Topic7\", \"Topic7\", \"Topic7\", \"Topic7\", \"Topic7\", \"Topic7\", \"Topic7\", \"Topic7\"], \"Freq\": [59280.0, 52303.0, 87293.0, 46521.0, 32915.0, 35658.0, 38742.0, 30634.0, 30002.0, 30740.0, 32354.0, 214259.0, 25366.0, 45264.0, 21836.0, 23831.0, 23600.0, 36088.0, 19928.0, 18632.0, 28989.0, 19929.0, 32542.0, 16847.0, 17266.0, 31516.0, 20907.0, 32269.0, 21601.0, 119671.0, 52302.55078125, 20906.330078125, 18874.36328125, 11306.58984375, 10038.810546875, 8252.0810546875, 8145.1279296875, 7832.9267578125, 7479.9453125, 7468.4765625, 7098.6005859375, 6887.642578125, 6905.439453125, 6824.68896484375, 6104.82421875, 5876.13525390625, 5426.22705078125, 5400.60498046875, 5322.365234375, 5287.70703125, 5117.0263671875, 4924.30615234375, 4819.705078125, 4805.6484375, 4688.7734375, 4485.009765625, 4427.41259765625, 4390.255859375, 4135.38525390625, 3711.505615234375, 3711.882080078125, 12773.8349609375, 25146.044921875, 14417.337890625, 77075.5859375, 5931.65185546875, 12363.927734375, 15392.8759765625, 5694.57177734375, 21182.59765625, 23520.134765625, 7672.27197265625, 11445.0078125, 8863.38671875, 7178.306640625, 6051.08203125, 6594.81298828125, 6880.9951171875, 6847.525390625, 6506.4716796875, 18819.3515625, 8622.2021484375, 7783.39013671875, 5886.7275390625, 5734.97900390625, 5570.388671875, 5224.666015625, 4666.5439453125, 3952.290771484375, 3873.294921875, 3873.6357421875, 3782.439208984375, 3728.866455078125, 3695.302490234375, 3476.339599609375, 3173.630615234375, 2985.78076171875, 2916.593994140625, 2715.06640625, 2596.09619140625, 2575.293212890625, 2323.31787109375, 2279.624755859375, 2247.746826171875, 2130.602783203125, 2048.3974609375, 1879.026123046875, 1873.2100830078125, 1862.3121337890625, 1771.880859375, 12509.2333984375, 25512.4921875, 5482.3203125, 13932.94140625, 66353.1796875, 25475.26171875, 34841.23046875, 20045.384765625, 21891.48046875, 14952.154296875, 18750.01171875, 8582.6669921875, 16029.2177734375, 13986.40625, 25558.443359375, 21112.52734375, 15036.1650390625, 7177.53173828125, 7219.4462890625, 10767.8271484375, 9158.7978515625, 9468.3955078125, 14676.134765625, 27402.322265625, 7645.28759765625, 9914.69921875, 8358.1201171875, 7405.63720703125, 8255.0546875, 38741.7578125, 32353.296875, 12431.7314453125, 10943.9599609375, 8187.81103515625, 6194.84423828125, 6116.12939453125, 5480.2177734375, 5417.052734375, 5285.9677734375, 5130.6083984375, 4919.43994140625, 4565.10400390625, 4200.76123046875, 3986.77880859375, 3794.5947265625, 3550.01708984375, 3520.87548828125, 3343.62158203125, 3101.20654296875, 3093.385986328125, 3005.0439453125, 2895.0478515625, 2878.4677734375, 2709.02734375, 2514.554443359375, 2520.125244140625, 2503.068115234375, 2347.591796875, 2337.32958984375, 6023.1298828125, 9420.78515625, 9224.3369140625, 4104.23388671875, 13287.7919921875, 15741.732421875, 6840.169921875, 16621.82421875, 5396.55712890625, 8637.1318359375, 17137.796875, 8781.2666015625, 9238.203125, 34304.1953125, 26198.04296875, 10391.3916015625, 11210.134765625, 15909.0400390625, 26738.509765625, 7681.50341796875, 12654.10546875, 8669.8203125, 8688.6455078125, 5987.1767578125, 6364.58935546875, 7294.6435546875, 6275.59130859375, 19929.26171875, 10713.5693359375, 9813.302734375, 9647.5703125, 9446.8701171875, 8499.283203125, 7843.07470703125, 7115.29052734375, 6222.53271484375, 5490.67919921875, 5494.5458984375, 5263.640625, 5097.00439453125, 4566.80908203125, 4062.271240234375, 3820.4501953125, 3223.96533203125, 3214.458984375, 3219.693603515625, 3206.5859375, 2945.98681640625, 2898.322265625, 2867.052734375, 2740.83349609375, 2741.53662109375, 2697.55517578125, 2634.71875, 2574.637451171875, 2532.98974609375, 2505.471923828125, 7498.212890625, 41563.4765625, 18273.892578125, 11305.3232421875, 6873.40625, 6099.59375, 20109.505859375, 7280.35302734375, 4508.92041015625, 5893.26806640625, 7608.9228515625, 9386.998046875, 15368.546875, 5998.4560546875, 7752.56689453125, 13407.7177734375, 8197.65234375, 10280.689453125, 11666.0439453125, 13650.87890625, 6922.0029296875, 7573.18701171875, 11240.216796875, 11735.7490234375, 6784.4677734375, 6660.09326171875, 35657.72265625, 30740.08984375, 25366.234375, 23599.86328125, 14192.2841796875, 11129.26953125, 9277.56640625, 6863.49267578125, 4655.82275390625, 4310.04296875, 4021.615966796875, 3974.742919921875, 3858.3564453125, 3755.3662109375, 3669.546142578125, 3601.991455078125, 3528.5869140625, 3550.07421875, 3276.092041015625, 3038.664306640625, 2891.913330078125, 2663.61865234375, 2593.01123046875, 2562.212890625, 2426.708984375, 2400.1982421875, 2362.580810546875, 2367.33642578125, 2267.429443359375, 2236.718505859375, 2841.47021484375, 4668.1220703125, 8329.771484375, 8949.9345703125, 11057.9892578125, 6630.4541015625, 7539.228515625, 13310.2548828125, 11876.9638671875, 45499.73046875, 10530.8740234375, 7344.07080078125, 9539.26953125, 6886.07958984375, 6192.8193359375, 7835.6982421875, 9909.7080078125, 13560.02734375, 8836.416015625, 5598.2548828125, 6476.12109375, 6501.39599609375, 5300.904296875, 5481.54638671875, 5599.56982421875, 32914.96875, 30633.59765625, 30001.8828125, 19927.8125, 17266.2421875, 12271.9892578125, 12202.8330078125, 8603.6083984375, 8382.05859375, 8348.9482421875, 5975.97119140625, 5138.28759765625, 5132.06201171875, 4940.373046875, 4539.79736328125, 4318.7841796875, 4202.642578125, 4021.535400390625, 3351.785400390625, 3184.2265625, 3141.268310546875, 2840.200439453125, 2693.24755859375, 2427.23876953125, 2408.6435546875, 2301.105224609375, 2278.793701171875, 2286.32177734375, 2129.906982421875, 2142.193115234375, 5653.5380859375, 14941.2705078125, 7058.85400390625, 2584.2822265625, 3633.735107421875, 4641.8544921875, 10477.16015625, 4865.1572265625, 6115.97412109375, 4082.7431640625, 10841.080078125, 10941.7958984375, 15218.4833984375, 5565.90673828125, 8751.0654296875, 8613.6533203125, 8285.94140625, 7060.68017578125, 6196.64208984375, 5502.54248046875, 4957.6337890625, 21835.255859375, 18631.515625, 16847.16015625, 11436.93359375, 11228.896484375, 9850.0439453125, 9636.40625, 8859.2587890625, 7894.14404296875, 7418.146484375, 6367.376953125, 5401.1552734375, 5200.39404296875, 4437.39892578125, 4295.0439453125, 3817.2578125, 3720.113037109375, 3627.404541015625, 2933.592529296875, 2742.5166015625, 2558.21044921875, 2541.743408203125, 2529.96875, 2394.321044921875, 2319.181884765625, 2155.107666015625, 2138.45849609375, 2105.953369140625, 1975.08447265625, 1964.4678955078125, 59004.6171875, 21470.44921875, 8765.09375, 7365.10009765625, 3513.065185546875, 10196.060546875, 4984.60400390625, 6821.68310546875, 7442.65869140625, 5331.52392578125, 20109.16796875, 21828.7421875, 10518.3525390625, 25807.447265625, 9175.1845703125, 7731.33544921875, 6544.1484375, 5403.1630859375], \"Term\": [\"weight\", \"supplement\", \"time\", \"clean\", \"scent\", \"pill\", \"price\", \"razor\", \"hair\", \"energy\", \"battery\", \"product\", \"vitamin\", \"week\", \"pound\", \"loss\", \"effect\", \"skin\", \"shave\", \"taste\", \"first\", \"tooth\", \"water\", \"food\", \"blade\", \"review\", \"pain\", \"result\", \"head\", \"good\", \"supplement\", \"pain\", \"deodorant\", \"fish\", \"face\", \"tablet\", \"cold\", \"pure\", \"antiperspirant\", \"foot\", \"fragrance\", \"relief\", \"electric\", \"form\", \"odor\", \"chemical\", \"nose\", \"protection\", \"joint\", \"active\", \"tissue\", \"sense\", \"essential\", \"knee\", \"craving\", \"anti\", \"oil\", \"eye\", \"immune\", \"shoe\", \"mask\", \"health\", \"skin\", \"smell\", \"product\", \"strength\", \"strong\", \"body\", \"support\", \"great\", \"good\", \"system\", \"work\", \"brand\", \"natural\", \"stick\", \"free\", \"well\", \"little\", \"love\", \"ingredient\", \"instruction\", \"next\", \"wipe\", \"step\", \"cloth\", \"laundry\", \"update\", \"period\", \"reading\", \"honest\", \"lose\", \"summer\", \"sound\", \"finish\", \"skeptical\", \"plate\", \"ability\", \"miracle\", \"wonder\", \"prescription\", \"session\", \"range\", \"cough\", \"packet\", \"bone\", \"reduction\", \"movement\", \"follow\", \"stop\", \"couple\", \"first\", \"direction\", \"minute\", \"time\", \"review\", \"week\", \"day\", \"result\", \"hour\", \"month\", \"second\", \"light\", \"last\", \"work\", \"thing\", \"long\", \"test\", \"change\", \"difference\", \"able\", \"sure\", \"little\", \"product\", \"full\", \"year\", \"problem\", \"night\", \"much\", \"price\", \"battery\", \"blood\", \"store\", \"button\", \"customer\", \"bag\", \"sheet\", \"service\", \"packaging\", \"accurate\", \"monitor\", \"bulk\", \"activity\", \"track\", \"personal\", \"display\", \"drug\", \"booster\", \"seller\", \"shipping\", \"strap\", \"reasonable\", \"local\", \"chair\", \"digital\", \"date\", \"ten\", \"save\", \"thermometer\", \"roll\", \"pressure\", \"towel\", \"phone\", \"device\", \"unit\", \"value\", \"quality\", \"rate\", \"cheap\", \"brand\", \"item\", \"paper\", \"good\", \"great\", \"size\", \"high\", \"easy\", \"product\", \"large\", \"time\", \"small\", \"year\", \"purchase\", \"money\", \"well\", \"many\", \"tooth\", \"stain\", \"clothe\", \"detergent\", \"toothbrush\", \"dish\", \"toilet\", \"floor\", \"carpet\", \"dishwasher\", \"surface\", \"oral\", \"load\", \"toothpaste\", \"kitchen\", \"sick\", \"sonicare\", \"cleaner\", \"foam\", \"dentist\", \"plug\", \"mouthwash\", \"brace\", \"dirty\", \"bowl\", \"brushing\", \"tube\", \"dinner\", \"holder\", \"adjustable\", \"cleaning\", \"clean\", \"brush\", \"white\", \"bathroom\", \"container\", \"water\", \"glass\", \"wash\", \"machine\", \"color\", \"soft\", \"small\", \"room\", \"plastic\", \"easy\", \"hand\", \"nice\", \"little\", \"great\", \"fresh\", \"large\", \"good\", \"product\", \"size\", \"head\", \"pill\", \"energy\", \"vitamin\", \"effect\", \"sleep\", \"capsule\", \"omega\", \"swallow\", \"caffeine\", \"increase\", \"dose\", \"bean\", \"ketone\", \"medication\", \"metabolism\", \"cleanse\", \"dosage\", \"excited\", \"mood\", \"colon\", \"stress\", \"study\", \"asleep\", \"calcium\", \"jittery\", \"gummie\", \"brain\", \"slow\", \"belly\", \"turmeric\", \"bulksupplement\", \"research\", \"stomach\", \"benefit\", \"level\", \"doctor\", \"daily\", \"natural\", \"side\", \"product\", \"bottle\", \"help\", \"result\", \"night\", \"morning\", \"high\", \"easy\", \"good\", \"week\", \"healthy\", \"month\", \"many\", \"difference\", \"year\", \"work\", \"scent\", \"razor\", \"hair\", \"shave\", \"blade\", \"trimmer\", \"close\", \"muscle\", \"shaver\", \"smooth\", \"pleasant\", \"clipper\", \"neck\", \"attachment\", \"fiber\", \"shaving\", \"beard\", \"fusion\", \"sharp\", \"mild\", \"cord\", \"epilator\", \"sore\", \"clothing\", \"shirt\", \"panasonic\", \"braun\", \"give\", \"vibration\", \"dial\", \"leg\", \"head\", \"model\", \"laser\", \"length\", \"shower\", \"area\", \"cream\", \"charge\", \"speed\", \"nice\", \"skin\", \"good\", \"power\", \"easy\", \"great\", \"time\", \"little\", \"year\", \"long\", \"clean\", \"pound\", \"taste\", \"food\", \"workout\", \"scale\", \"flavor\", \"powder\", \"appetite\", \"protein\", \"sugar\", \"probiotic\", \"drink\", \"hungry\", \"sweet\", \"calorie\", \"milk\", \"snack\", \"fruit\", \"chocolate\", \"artificial\", \"hunger\", \"texture\", \"blend\", \"tank\", \"nutrition\", \"bar\", \"shake\", \"pod\", \"raspberry\", \"gain\", \"weight\", \"loss\", \"green\", \"meal\", \"goal\", \"diet\", \"acid\", \"coffee\", \"healthy\", \"exercise\", \"great\", \"good\", \"water\", \"product\", \"body\", \"love\", \"little\", \"stuff\"], \"Total\": [59280.0, 52303.0, 87293.0, 46521.0, 32915.0, 35658.0, 38742.0, 30634.0, 30002.0, 30740.0, 32354.0, 214259.0, 25366.0, 45264.0, 21836.0, 23831.0, 23600.0, 36088.0, 19928.0, 18632.0, 28989.0, 19929.0, 32542.0, 16847.0, 17266.0, 31516.0, 20907.0, 32269.0, 21601.0, 119671.0, 52303.28515625, 20907.064453125, 18875.09765625, 11307.3232421875, 10039.5478515625, 8252.814453125, 8145.861328125, 7833.662109375, 7480.6796875, 7469.20947265625, 7099.33447265625, 6888.3759765625, 6906.18115234375, 6825.42333984375, 6105.55859375, 5876.86962890625, 5426.96337890625, 5401.3388671875, 5323.09814453125, 5288.44189453125, 5117.759765625, 4925.0400390625, 4820.43896484375, 4806.38232421875, 4689.51318359375, 4485.7431640625, 4428.14599609375, 4390.990234375, 4136.11962890625, 3712.23876953125, 3712.616455078125, 14625.7783203125, 36088.4453125, 18891.853515625, 214259.484375, 6832.17724609375, 21663.875, 31101.69140625, 6533.5068359375, 94379.28125, 119671.9140625, 13258.2802734375, 52824.02734375, 31941.939453125, 24610.78515625, 9901.5166015625, 20083.50390625, 36139.5234375, 49395.421875, 25998.73046875, 18820.09375, 8622.9423828125, 7784.13037109375, 5887.4677734375, 5735.71923828125, 5571.1298828125, 5225.40771484375, 4667.28369140625, 3953.030517578125, 3874.034423828125, 3874.377197265625, 3783.1806640625, 3729.607666015625, 3696.041748046875, 3477.080810546875, 3174.371337890625, 2986.52197265625, 2917.3359375, 2715.806884765625, 2596.83740234375, 2576.03369140625, 2324.058837890625, 2280.36669921875, 2248.486572265625, 2131.343017578125, 2049.1396484375, 1879.76904296875, 1873.9522705078125, 1863.052490234375, 1772.62109375, 13192.5419921875, 28989.443359375, 5792.94482421875, 15843.6162109375, 87293.703125, 31516.3359375, 45264.19140625, 27817.75390625, 32269.32421875, 21387.548828125, 28238.08203125, 11282.1455078125, 25593.955078125, 22052.046875, 52824.02734375, 42159.6875, 28427.177734375, 10547.83984375, 10885.5419921875, 21350.013671875, 16825.095703125, 21000.44140625, 49395.421875, 214259.484375, 15604.3154296875, 38879.9296875, 24787.541015625, 15959.9345703125, 34468.75, 38742.48828125, 32354.0234375, 12432.4609375, 10944.6865234375, 8188.5390625, 6195.5712890625, 6116.85693359375, 5480.94482421875, 5417.77978515625, 5286.6962890625, 5131.33447265625, 4920.16552734375, 4565.83203125, 4201.49072265625, 3987.5078125, 3795.324951171875, 3550.743408203125, 3521.605224609375, 3344.357177734375, 3101.934814453125, 3094.113037109375, 3005.77099609375, 2895.775146484375, 2879.194580078125, 2709.754638671875, 2515.281005859375, 2520.853515625, 2503.79541015625, 2348.319091796875, 2338.05615234375, 6203.3720703125, 10046.0810546875, 9969.2900390625, 4262.5185546875, 15311.6650390625, 20148.984375, 7949.4658203125, 24950.291015625, 6349.85009765625, 12090.2783203125, 31941.939453125, 12958.1474609375, 14512.9365234375, 119671.9140625, 94379.28125, 20566.521484375, 25260.294921875, 49779.25390625, 214259.484375, 18597.7578125, 87293.703125, 33401.45703125, 38879.9296875, 8940.7802734375, 12425.1884765625, 36139.5234375, 28979.029296875, 19929.984375, 10714.291015625, 9814.025390625, 9648.2919921875, 9447.591796875, 8500.0048828125, 7843.79541015625, 7116.01171875, 6223.25341796875, 5491.39990234375, 5495.26904296875, 5264.3623046875, 5097.72607421875, 4567.52978515625, 4062.99267578125, 3821.177001953125, 3224.686279296875, 3215.179931640625, 3220.41650390625, 3207.306884765625, 2946.712646484375, 2899.04345703125, 2867.77490234375, 2741.554443359375, 2742.258544921875, 2698.276123046875, 2635.441650390625, 2575.367431640625, 2533.7119140625, 2506.197509765625, 7777.08056640625, 46521.703125, 20715.830078125, 13031.19140625, 8326.8486328125, 7327.740234375, 32542.66015625, 9223.5087890625, 5083.951171875, 7528.0703125, 11004.572265625, 15410.8603515625, 33401.45703125, 8157.23291015625, 12179.2138671875, 49779.25390625, 17677.58984375, 34596.66015625, 49395.421875, 94379.28125, 13349.2646484375, 18597.7578125, 119671.9140625, 214259.484375, 20566.521484375, 21601.95703125, 35658.47265625, 30740.8359375, 25366.98046875, 23600.61328125, 14193.033203125, 11130.017578125, 9278.3134765625, 6864.240234375, 4656.5703125, 4310.79248046875, 4022.363525390625, 3975.491455078125, 3859.104248046875, 3756.114013671875, 3670.294921875, 3602.74169921875, 3529.33447265625, 3550.82763671875, 3276.84033203125, 3039.41357421875, 2892.66259765625, 2664.366455078125, 2593.759033203125, 2562.960205078125, 2427.45703125, 2400.94580078125, 2363.328857421875, 2368.0927734375, 2268.178955078125, 2237.46826171875, 2849.135986328125, 4830.3515625, 9500.2783203125, 11488.5361328125, 16186.02734375, 8576.763671875, 10143.7822265625, 24610.78515625, 21958.0078125, 214259.484375, 24693.818359375, 16416.923828125, 32269.32421875, 15959.9345703125, 12876.0712890625, 25260.294921875, 49779.25390625, 119671.9140625, 45264.19140625, 13315.19921875, 28238.08203125, 28979.029296875, 21350.013671875, 38879.9296875, 52824.02734375, 32915.6953125, 30634.326171875, 30002.611328125, 19928.541015625, 17266.970703125, 12272.7177734375, 12203.5634765625, 8604.341796875, 8382.787109375, 8349.677734375, 5976.703125, 5139.015625, 5132.79150390625, 4941.10107421875, 4540.53076171875, 4319.51220703125, 4203.3701171875, 4022.26416015625, 3352.514892578125, 3184.960205078125, 3141.998046875, 2840.928466796875, 2693.978515625, 2427.970947265625, 2409.375, 2301.834228515625, 2279.521728515625, 2287.0556640625, 2130.63623046875, 2142.927734375, 6628.291015625, 21601.95703125, 9791.4658203125, 2697.9228515625, 4282.19091796875, 6056.705078125, 18888.2578125, 6668.87841796875, 11051.400390625, 5509.78369140625, 34596.66015625, 36088.4453125, 119671.9140625, 12924.822265625, 49779.25390625, 94379.28125, 87293.703125, 49395.421875, 38879.9296875, 28427.177734375, 46521.703125, 21836.001953125, 18632.26171875, 16847.90625, 11437.6806640625, 11229.642578125, 9850.7890625, 9637.1533203125, 8860.0048828125, 7894.888671875, 7418.89208984375, 6368.12353515625, 5401.9013671875, 5201.1396484375, 4438.14501953125, 4295.78955078125, 3818.004150390625, 3720.85791015625, 3628.150146484375, 2934.33740234375, 2743.263427734375, 2558.955810546875, 2542.490966796875, 2530.715576171875, 2395.073486328125, 2319.928466796875, 2155.853515625, 2139.203857421875, 2106.70947265625, 1975.8299560546875, 1965.2156982421875, 59280.63671875, 23831.107421875, 9601.626953125, 8245.080078125, 3887.120849609375, 14484.3125, 6619.333984375, 10308.568359375, 13315.19921875, 8765.125, 94379.28125, 119671.9140625, 32542.66015625, 214259.484375, 31101.69140625, 25998.73046875, 49395.421875, 17567.17578125], \"loglift\": [30.0, 29.0, 28.0, 27.0, 26.0, 25.0, 24.0, 23.0, 22.0, 21.0, 20.0, 19.0, 18.0, 17.0, 16.0, 15.0, 14.0, 13.0, 12.0, 11.0, 10.0, 9.0, 8.0, 7.0, 6.0, 5.0, 4.0, 3.0, 2.0, 1.0, 1.7486000061035156, 1.7486000061035156, 1.7486000061035156, 1.7484999895095825, 1.7484999895095825, 1.7484999895095825, 1.7484999895095825, 1.7484999895095825, 1.7484999895095825, 1.7484999895095825, 1.7484999895095825, 1.7484999895095825, 1.7484999895095825, 1.7484999895095825, 1.7484999895095825, 1.7484999895095825, 1.7484999895095825, 1.7484999895095825, 1.7484999895095825, 1.7484999895095825, 1.7484999895095825, 1.7484999895095825, 1.7484999895095825, 1.7484999895095825, 1.7484999895095825, 1.7483999729156494, 1.7483999729156494, 1.7483999729156494, 1.7483999729156494, 1.7483999729156494, 1.7483999729156494, 1.6131999492645264, 1.3873000144958496, 1.4782999753952026, 0.7261999845504761, 1.607300043106079, 1.1878000497817993, 1.045300006866455, 1.611199975013733, 0.25450000166893005, 0.1216999962925911, 1.2015999555587769, 0.219200000166893, 0.4666000008583069, 0.5164999961853027, 1.2561999559402466, 0.6349999904632568, 0.09000000357627869, -0.227400004863739, 0.36340001225471497, 1.7608000040054321, 1.760699987411499, 1.760699987411499, 1.760699987411499, 1.760699987411499, 1.760699987411499, 1.760699987411499, 1.760599970817566, 1.760599970817566, 1.760599970817566, 1.760599970817566, 1.760599970817566, 1.760599970817566, 1.760599970817566, 1.760599970817566, 1.760599970817566, 1.760599970817566, 1.7604999542236328, 1.7604999542236328, 1.7604999542236328, 1.7604999542236328, 1.7604999542236328, 1.7604999542236328, 1.7604999542236328, 1.7604999542236328, 1.7604000568389893, 1.7604000568389893, 1.7604000568389893, 1.7604000568389893, 1.7604000568389893, 1.7075999975204468, 1.6330000162124634, 1.7057000398635864, 1.6323000192642212, 1.4865000247955322, 1.5479999780654907, 1.4990999698638916, 1.4330999851226807, 1.3727999925613403, 1.4027999639511108, 1.3513000011444092, 1.4873000383377075, 1.2928999662399292, 1.3055000305175781, 1.0348000526428223, 1.069200038909912, 1.123900055885315, 1.3758000135421753, 1.350100040435791, 1.076300024986267, 1.1526000499725342, 0.9642000198364258, 0.5472000241279602, -0.29580000042915344, 1.0472999811172485, 0.39430001378059387, 0.6736999750137329, 0.9929999709129333, 0.33160001039505005, 1.8026000261306763, 1.8025000095367432, 1.8025000095367432, 1.8025000095367432, 1.8025000095367432, 1.8025000095367432, 1.8025000095367432, 1.80239999294281, 1.80239999294281, 1.80239999294281, 1.80239999294281, 1.80239999294281, 1.80239999294281, 1.80239999294281, 1.80239999294281, 1.80239999294281, 1.80239999294281, 1.80239999294281, 1.80239999294281, 1.802299976348877, 1.802299976348877, 1.802299976348877, 1.802299976348877, 1.802299976348877, 1.802299976348877, 1.802299976348877, 1.802299976348877, 1.802299976348877, 1.802299976348877, 1.802299976348877, 1.7731000185012817, 1.7382999658584595, 1.7249000072479248, 1.7647000551223755, 1.6607999801635742, 1.5556999444961548, 1.6523000001907349, 1.396399974822998, 1.6398999691009521, 1.4661999940872192, 1.179900050163269, 1.4134999513626099, 1.3509000539779663, 0.5530999898910522, 0.5209000110626221, 1.1198999881744385, 0.9901999831199646, 0.661899983882904, -0.2784999907016754, 0.9182999730110168, -0.12870000302791595, 0.4537999927997589, 0.30410000681877136, 1.4016000032424927, 1.1335999965667725, 0.20229999721050262, 0.2727000117301941, 1.965000033378601, 1.965000033378601, 1.965000033378601, 1.965000033378601, 1.965000033378601, 1.965000033378601, 1.965000033378601, 1.964900016784668, 1.964900016784668, 1.964900016784668, 1.964900016784668, 1.964900016784668, 1.964900016784668, 1.964900016784668, 1.964900016784668, 1.964900016784668, 1.9648000001907349, 1.9648000001907349, 1.9648000001907349, 1.9648000001907349, 1.9648000001907349, 1.9648000001907349, 1.9648000001907349, 1.9648000001907349, 1.9648000001907349, 1.9648000001907349, 1.9648000001907349, 1.9648000001907349, 1.9648000001907349, 1.9648000001907349, 1.9285000562667847, 1.8523999452590942, 1.8395999670028687, 1.8229999542236328, 1.7732000350952148, 1.781599998474121, 1.4837000370025635, 1.7285000085830688, 1.8450000286102295, 1.7201999425888062, 1.5960999727249146, 1.4693000316619873, 1.1887999773025513, 1.6576000452041626, 1.5132999420166016, 0.6532999873161316, 1.1965999603271484, 0.7516000270843506, 0.5218999981880188, 0.03150000050663948, 1.3083000183105469, 1.06659996509552, -0.4002000093460083, -0.9394999742507935, 0.8560000061988831, 0.7883999943733215, 1.9915000200271606, 1.9915000200271606, 1.9915000200271606, 1.9915000200271606, 1.9915000200271606, 1.9915000200271606, 1.9915000200271606, 1.9914000034332275, 1.9914000034332275, 1.9914000034332275, 1.9912999868392944, 1.9912999868392944, 1.9912999868392944, 1.9912999868392944, 1.9912999868392944, 1.9912999868392944, 1.9912999868392944, 1.9912999868392944, 1.9912999868392944, 1.9912999868392944, 1.9912999868392944, 1.9912999868392944, 1.9911999702453613, 1.9911999702453613, 1.9911999702453613, 1.9911999702453613, 1.9911999702453613, 1.9911999702453613, 1.9911999702453613, 1.9911999702453613, 1.988800048828125, 1.9573999643325806, 1.8600000143051147, 1.7417999505996704, 1.6104999780654907, 1.7342000007629395, 1.6948000192642212, 1.3768999576568604, 1.3769999742507935, 0.44209998846054077, 1.139299988746643, 1.1871000528335571, 0.7728000283241272, 1.1510000228881836, 1.259600043296814, 0.8209999799728394, 0.3774000108242035, -0.18610000610351562, 0.3578999936580658, 1.125100016593933, 0.5189999938011169, 0.4970000088214874, 0.5983999967575073, 0.03240000084042549, -0.25270000100135803, 2.2076001167297363, 2.2076001167297363, 2.2076001167297363, 2.2076001167297363, 2.2076001167297363, 2.2076001167297363, 2.2076001167297363, 2.2076001167297363, 2.2076001167297363, 2.2076001167297363, 2.2074999809265137, 2.2074999809265137, 2.2074999809265137, 2.2074999809265137, 2.2074999809265137, 2.2074999809265137, 2.2074999809265137, 2.2074999809265137, 2.20740008354187, 2.20740008354187, 2.20740008354187, 2.20740008354187, 2.20740008354187, 2.20740008354187, 2.20740008354187, 2.2072999477386475, 2.2072999477386475, 2.2072999477386475, 2.2072999477386475, 2.2072999477386475, 2.0485999584198, 1.8389999866485596, 1.8803999423980713, 2.164599895477295, 2.0434999465942383, 1.94159996509552, 1.618299961090088, 1.892300009727478, 1.6160000562667847, 1.9078999757766724, 1.0471999645233154, 1.014299988746643, 0.1454000025987625, 1.3652000427246094, 0.4691999852657318, -0.18629999458789825, -0.14710000157356262, 0.2623000144958496, 0.37119999527931213, 0.565500020980835, -0.031300000846385956, 2.2767999172210693, 2.2767999172210693, 2.2767999172210693, 2.276700019836426, 2.276700019836426, 2.276700019836426, 2.276700019836426, 2.276700019836426, 2.276700019836426, 2.276700019836426, 2.276700019836426, 2.276700019836426, 2.276700019836426, 2.276599884033203, 2.276599884033203, 2.276599884033203, 2.276599884033203, 2.276599884033203, 2.276599884033203, 2.2764999866485596, 2.2764999866485596, 2.2764999866485596, 2.2764999866485596, 2.2764999866485596, 2.2764999866485596, 2.2764999866485596, 2.2764999866485596, 2.276400089263916, 2.276400089263916, 2.276400089263916, 2.2720999717712402, 2.172499895095825, 2.185699939727783, 2.1638998985290527, 2.175600051879883, 1.9256999492645264, 1.9931999444961548, 1.8638999462127686, 1.695099949836731, 1.7797000408172607, 0.7307000160217285, 0.5752999782562256, 1.1474000215530396, 0.16030000150203705, 1.055999994277954, 1.0640000104904175, 0.2554999887943268, 1.0978000164031982], \"logprob\": [30.0, 29.0, 28.0, 27.0, 26.0, 25.0, 24.0, 23.0, 22.0, 21.0, 20.0, 19.0, 18.0, 17.0, 16.0, 15.0, 14.0, 13.0, 12.0, 11.0, 10.0, 9.0, 8.0, 7.0, 6.0, 5.0, 4.0, 3.0, 2.0, 1.0, -3.2852001190185547, -4.202199935913086, -4.304500102996826, -4.81689977645874, -4.935800075531006, -5.131800174713135, -5.144899845123291, -5.183899879455566, -5.230100154876709, -5.231599807739258, -5.282400131225586, -5.312600135803223, -5.309999942779541, -5.321700096130371, -5.433199882507324, -5.471399784088135, -5.551000118255615, -5.555799961090088, -5.570400238037109, -5.576900005340576, -5.6097002029418945, -5.648099899291992, -5.669600009918213, -5.672500133514404, -5.6971001625061035, -5.741499900817871, -5.754499912261963, -5.762899875640869, -5.822700023651123, -5.930799961090088, -5.930699825286865, -4.694900035858154, -4.017600059509277, -4.57390022277832, -2.8975000381469727, -5.461999893188477, -4.727499961853027, -4.508399963378906, -5.502799987792969, -4.1890997886657715, -4.084400177001953, -5.204699993133545, -4.804699897766113, -5.060400009155273, -5.271200180053711, -5.441999912261963, -5.355999946594238, -5.313499927520752, -5.318399906158447, -5.369500160217285, -4.295199871063232, -5.075799942016602, -5.178100109100342, -5.457399845123291, -5.483500003814697, -5.512599945068359, -5.576700210571289, -5.689700126647949, -5.855800151824951, -5.875999927520752, -5.875899791717529, -5.899700164794922, -5.914000034332275, -5.922999858856201, -5.984099864959717, -6.075200080871582, -6.136199951171875, -6.1596999168396, -6.231299877166748, -6.276100158691406, -6.28410005569458, -6.3871002197265625, -6.406099796295166, -6.420199871063232, -6.473700046539307, -6.513000011444092, -6.599299907684326, -6.602399826049805, -6.60830020904541, -6.658100128173828, -4.70359992980957, -3.9909000396728516, -5.528600215911865, -4.595799922943115, -3.035099983215332, -3.9923999309539795, -3.67930006980896, -4.232100009918213, -4.144000053405762, -4.525199890136719, -4.298900127410889, -5.080399990081787, -4.455699920654297, -4.5920000076293945, -3.9890999794006348, -4.180200099945068, -4.519599914550781, -5.259099960327148, -5.253300189971924, -4.853499889373779, -5.015399932861328, -4.982100009918213, -4.543900012969971, -3.9195001125335693, -5.196000099182129, -4.936100006103516, -5.106900215148926, -5.22790002822876, -5.11929988861084, -3.531399965286255, -3.7116000652313232, -4.668099880218506, -4.795499801635742, -5.085700035095215, -5.36460018157959, -5.377399921417236, -5.487199783325195, -5.498799800872803, -5.5233001708984375, -5.553100109100342, -5.595099925994873, -5.669899940490723, -5.7530999183654785, -5.805300235748291, -5.854700088500977, -5.92140007019043, -5.929599761962891, -5.981299877166748, -6.05649995803833, -6.059100151062012, -6.0879998207092285, -6.12529993057251, -6.131100177764893, -6.191699981689453, -6.266200065612793, -6.263999938964844, -6.2708001136779785, -6.33489990234375, -6.339300155639648, -5.3927001953125, -4.945400238037109, -4.9664998054504395, -5.776299953460693, -4.601500034332275, -4.432000160217285, -5.265500068664551, -4.377600193023682, -5.502600193023682, -5.032299995422363, -4.3470001220703125, -5.015699863433838, -4.965000152587891, -3.65310001373291, -3.922600030899048, -4.847300052642822, -4.771500110626221, -4.42140007019043, -3.9021999835968018, -5.149499893188477, -4.650300025939941, -5.028500080108643, -5.026299953460693, -5.39870023727417, -5.337600231170654, -5.201200008392334, -5.3516998291015625, -4.033699989318848, -4.654300212860107, -4.742099761962891, -4.759099960327148, -4.780200004577637, -4.885900020599365, -4.96619987487793, -5.063600063323975, -5.197700023651123, -5.322800159454346, -5.3221001625061035, -5.364999771118164, -5.397200107574463, -5.506999969482422, -5.624100208282471, -5.685500144958496, -5.855199813842773, -5.8582000732421875, -5.856599807739258, -5.860599994659424, -5.945400238037109, -5.961699962615967, -5.972599983215332, -6.017600059509277, -6.017300128936768, -6.0335001945495605, -6.05709981918335, -6.080100059509277, -6.096399784088135, -6.107399940490723, -5.011199951171875, -3.2985999584198, -4.1203999519348145, -4.600599765777588, -5.098199844360352, -5.217599868774414, -4.024700164794922, -5.0406999588012695, -5.519800186157227, -5.251999855041504, -4.996500015258789, -4.786499977111816, -4.293499946594238, -5.234300136566162, -4.977799892425537, -4.429999828338623, -4.921999931335449, -4.6956000328063965, -4.569200038909912, -4.4120001792907715, -5.091100215911865, -5.001200199127197, -4.606400012969971, -4.563199996948242, -5.111199855804443, -5.129700183868408, -3.4254000186920166, -3.5738000869750977, -3.765899896621704, -3.838099956512451, -4.346700191497803, -4.589799880981445, -4.7718000411987305, -5.0731000900268555, -5.46120023727417, -5.538400173187256, -5.607699871063232, -5.6194000244140625, -5.649099826812744, -5.676199913024902, -5.6992998123168945, -5.717899799346924, -5.738500118255615, -5.732399940490723, -5.812699794769287, -5.887899875640869, -5.937399864196777, -6.019700050354004, -6.046500205993652, -6.058499813079834, -6.112800121307373, -6.123799800872803, -6.139599800109863, -6.137599945068359, -6.180699825286865, -6.194399833679199, -5.954999923706055, -5.458600044250488, -4.879499912261963, -4.807700157165527, -4.596199989318848, -5.107699871063232, -4.9791998863220215, -4.410799980163574, -4.524799823760986, -3.1816999912261963, -4.645100116729736, -5.005499839782715, -4.743899822235107, -5.069900035858154, -5.176000118255615, -4.940700054168701, -4.7058000564575195, -4.392199993133545, -4.820499897003174, -5.276899814605713, -5.131199836730957, -5.127299785614014, -5.331500053405762, -5.297999858856201, -5.276700019836426, -3.289299964904785, -3.3610999584198, -3.381999969482422, -3.791100025177002, -3.934499979019165, -4.275899887084961, -4.281599998474121, -4.631100177764893, -4.657100200653076, -4.661099910736084, -4.995500087738037, -5.146500110626221, -5.14769983291626, -5.185800075531006, -5.270400047302246, -5.320300102233887, -5.347499847412109, -5.391600131988525, -5.573699951171875, -5.625, -5.638599872589111, -5.7393999099731445, -5.792500019073486, -5.896500110626221, -5.904200077056885, -5.94980001449585, -5.95959997177124, -5.956299781799316, -6.027200222015381, -6.021399974822998, -5.051000118255615, -4.079100131988525, -4.828999996185303, -5.833799839019775, -5.493000030517578, -5.2480998039245605, -4.434000015258789, -5.201099872589111, -4.972300052642822, -5.376500129699707, -4.399899959564209, -4.390600204467773, -4.060699939727783, -5.0665998458862305, -4.614099979400635, -4.629899978637695, -4.668700218200684, -4.828700065612793, -4.959199905395508, -5.078000068664551, -5.182300090789795, -3.6305999755859375, -3.7892000675201416, -3.889899969100952, -4.277200222015381, -4.295599937438965, -4.426599979400635, -4.448500156402588, -4.532599925994873, -4.6479997634887695, -4.71019983291626, -4.8628997802734375, -5.027500152587891, -5.065400123596191, -5.223999977111816, -5.2565999031066895, -5.374599933624268, -5.400300025939941, -5.425600051879883, -5.637899875640869, -5.7052001953125, -5.774799823760986, -5.781199932098389, -5.785900115966797, -5.841000080108643, -5.872900009155273, -5.946199893951416, -5.953999996185303, -5.969299793243408, -6.0335001945495605, -6.038899898529053, -2.6364998817443848, -3.64739990234375, -4.543300151824951, -4.717299938201904, -5.457600116729736, -4.392099857330322, -5.107699871063232, -4.794000148773193, -4.706900119781494, -5.040500164031982, -3.712899923324585, -3.6308999061584473, -4.361000061035156, -3.463399887084961, -4.497600078582764, -4.668799877166748, -4.8354997634887695, -5.027100086212158]}, \"token.table\": {\"Topic\": [2, 1, 2, 3, 4, 5, 6, 7, 3, 1, 7, 1, 3, 4, 1, 1, 7, 1, 4, 6, 7, 5, 6, 3, 7, 2, 4, 3, 5, 6, 5, 1, 5, 7, 6, 7, 3, 1, 2, 6, 7, 2, 3, 1, 2, 4, 5, 7, 4, 4, 5, 1, 3, 5, 7, 6, 4, 6, 4, 3, 5, 7, 3, 5, 5, 7, 5, 4, 3, 2, 3, 5, 6, 3, 6, 3, 4, 6, 7, 1, 7, 4, 6, 4, 4, 6, 5, 6, 6, 2, 4, 6, 4, 5, 7, 1, 5, 1, 3, 4, 7, 4, 7, 6, 2, 2, 6, 1, 1, 6, 3, 1, 2, 5, 6, 7, 3, 1, 2, 5, 6, 4, 1, 4, 3, 6, 6, 5, 7, 1, 2, 3, 4, 5, 6, 3, 4, 2, 6, 4, 4, 4, 3, 3, 5, 5, 5, 7, 3, 3, 4, 5, 6, 7, 5, 1, 5, 6, 1, 5, 1, 5, 7, 1, 1, 6, 2, 2, 6, 1, 7, 4, 4, 2, 7, 1, 1, 1, 1, 3, 4, 5, 6, 7, 1, 3, 4, 7, 7, 2, 3, 4, 5, 6, 7, 6, 7, 6, 4, 7, 5, 7, 1, 3, 4, 5, 6, 7, 1, 3, 4, 5, 6, 7, 3, 7, 5, 6, 1, 3, 4, 6, 4, 6, 1, 3, 4, 5, 7, 1, 2, 5, 7, 1, 3, 5, 6, 7, 4, 2, 1, 2, 5, 7, 7, 1, 5, 2, 2, 2, 3, 4, 5, 1, 5, 4, 1, 3, 4, 5, 3, 6, 2, 3, 6, 2, 1, 6, 2, 4, 6, 3, 5, 6, 2, 3, 4, 6, 1, 2, 3, 4, 6, 7, 4, 3, 1, 2, 3, 4, 6, 2, 5, 7, 1, 3, 4, 6, 7, 3, 4, 1, 2, 3, 4, 5, 6, 7, 1, 5, 7, 5, 5, 6, 7, 2, 6, 2, 3, 6, 2, 3, 6, 3, 2, 3, 5, 6, 5, 1, 2, 5, 4, 2, 1, 2, 3, 4, 5, 6, 7, 6, 1, 5, 7, 6, 2, 1, 3, 4, 6, 7, 1, 2, 5, 1, 7, 1, 1, 5, 4, 3, 2, 1, 6, 3, 4, 2, 3, 3, 5, 5, 3, 4, 6, 2, 6, 4, 7, 7, 7, 3, 4, 6, 7, 2, 1, 3, 6, 3, 7, 1, 2, 3, 4, 5, 6, 1, 2, 3, 4, 5, 7, 1, 7, 2, 3, 6, 1, 3, 5, 6, 7, 2, 7, 3, 5, 6, 2, 3, 2, 1, 3, 5, 2, 5, 6, 2, 3, 6, 1, 3, 2, 4, 3, 7, 6, 2, 3, 4, 6, 3, 1, 3, 2, 7, 6, 6, 6, 6, 3, 3, 6, 1, 1, 4, 6, 4, 2, 4, 5, 6, 1, 3, 4, 5, 7, 2, 1, 6, 5, 5, 1, 3, 4, 5, 6, 7, 1, 4, 6, 7, 1, 4, 4, 6, 2, 2, 3, 6, 4, 2, 1, 4, 6, 7, 5, 7, 2, 3, 3, 1, 2, 5, 1, 3, 4, 6, 7, 5, 1, 2, 4, 7, 7, 2, 1, 1, 3, 1, 2, 3, 4, 5, 6, 7, 4, 5, 7, 1, 2, 3, 1, 7, 7, 3, 2, 3, 5, 7, 3, 1, 2, 3, 4, 5, 6, 7, 2, 3, 6, 1, 4, 4, 4, 4, 2, 3, 3, 6, 4, 5, 3, 6, 2, 3, 7, 6, 5, 1, 4, 4, 5, 6, 7, 2, 5, 6, 6, 7, 1, 2, 3, 4, 5, 6, 7, 1, 4, 7, 2, 2, 1, 2, 3, 4, 5, 6, 7, 1, 2, 3, 4, 5, 6], \"Freq\": [0.999884843826294, 0.025675931945443153, 0.544365406036377, 0.1628519743680954, 0.05676044896245003, 0.13200519979000092, 0.07060880959033966, 0.0077859885059297085, 0.9999347925186157, 0.24685263633728027, 0.7530969381332397, 0.9999164342880249, 0.9998831748962402, 0.9995222091674805, 0.9998342990875244, 0.9999091625213623, 0.9998865723609924, 0.18895336985588074, 0.25634974241256714, 0.5546832084655762, 0.9999039769172668, 0.9997073411941528, 0.9997771382331848, 0.9998599290847778, 0.9996041059494019, 0.17449578642845154, 0.8254023194313049, 0.9999683499336243, 0.9998763799667358, 0.9999119639396667, 0.9994802474975586, 0.14527525007724762, 0.7790374755859375, 0.07564061880111694, 0.9999437928199768, 0.9997172355651855, 0.9999629259109497, 0.4949248433113098, 0.10671444982290268, 0.10333842784166336, 0.2950000464916229, 0.9994438290596008, 0.9998931884765625, 0.0769423320889473, 0.14412513375282288, 0.20624594390392303, 0.4264630079269409, 0.14623093605041504, 0.9999057054519653, 0.9997298121452332, 0.9998608231544495, 0.27747219800949097, 0.5365359783172607, 0.15399816632270813, 0.031964246183633804, 0.9997711181640625, 0.8821273446083069, 0.11783259361982346, 0.9998976588249207, 0.9998177886009216, 0.9971444010734558, 0.0024568852968513966, 0.999934196472168, 0.9998775124549866, 0.9996253252029419, 0.9998161792755127, 0.9999085664749146, 0.9999592900276184, 0.9997215270996094, 0.6631731986999512, 0.07900387793779373, 0.19686663150787354, 0.06090647727251053, 0.44654974341392517, 0.5534140467643738, 0.7143756151199341, 0.09271912276744843, 0.160459503531456, 0.03234003484249115, 0.9998520016670227, 0.9998850226402283, 0.8934109807014465, 0.1065739169716835, 0.9996330142021179, 0.9641150236129761, 0.03574606031179428, 0.9997941255569458, 0.9998023509979248, 0.9999538064002991, 0.9997971653938293, 0.9998955130577087, 0.9996001124382019, 0.04016076400876045, 0.298101544380188, 0.6617795825004578, 0.9998942613601685, 0.9998639225959778, 0.09895886480808258, 0.12340325117111206, 0.6914398670196533, 0.0862368792295456, 0.8324530720710754, 0.16758236289024353, 0.9996823668479919, 0.9997835755348206, 0.9481872320175171, 0.05177167430520058, 0.9998905658721924, 0.2703602910041809, 0.7295079827308655, 0.9999077916145325, 0.024251310154795647, 0.12273528426885605, 0.7432138919830322, 0.04219333454966545, 0.06762763112783432, 0.9996614456176758, 0.1155017763376236, 0.7205829620361328, 0.14976046979427338, 0.014163616113364697, 0.9999043345451355, 0.9999418258666992, 0.9999697208404541, 0.8678351044654846, 0.1321214884519577, 0.9995670914649963, 0.2960444390773773, 0.7039340138435364, 0.10562054067850113, 0.5043556690216064, 0.039578430354595184, 0.04463697224855423, 0.24829024076461792, 0.05751752853393555, 0.9998883008956909, 0.9998573064804077, 0.9463235139846802, 0.05351337045431137, 0.9997977614402771, 0.9998818039894104, 0.9999271631240845, 0.999790608882904, 0.2268921136856079, 0.7730188369750977, 0.9999052286148071, 0.9999096393585205, 0.9998331665992737, 0.9998281598091125, 0.3195909559726715, 0.2693491578102112, 0.19907891750335693, 0.17579612135887146, 0.03617973253130913, 0.9999740123748779, 0.9998289942741394, 0.9999728202819824, 0.9996731877326965, 0.9999089241027832, 0.9997669458389282, 0.02133454941213131, 0.3703312873840332, 0.608319878578186, 0.9997744560241699, 0.9999454021453857, 0.9998831152915955, 0.9996891617774963, 0.8800445199012756, 0.11990571767091751, 0.9999713897705078, 0.9999198913574219, 0.9998578429222107, 0.9998706579208374, 0.9994350671768188, 0.9999462366104126, 0.9998380541801453, 0.9999379515647888, 0.9999529123306274, 0.32837894558906555, 0.22690263390541077, 0.07887069880962372, 0.14783276617527008, 0.017875367775559425, 0.20016427338123322, 0.4380016624927521, 0.016555219888687134, 0.5185304284095764, 0.02689286693930626, 0.9996830224990845, 0.48992857336997986, 0.05684325098991394, 0.08753988891839981, 0.07331304997205734, 0.06825035065412521, 0.22410467267036438, 0.9999343156814575, 0.9993813633918762, 0.9995384216308594, 0.7892875075340271, 0.21065735816955566, 0.095957912504673, 0.9037537574768066, 0.1965373456478119, 0.2866503894329071, 0.09392345696687698, 0.11330979317426682, 0.1271643340587616, 0.18240703642368317, 0.22444544732570648, 0.2775821089744568, 0.144639790058136, 0.04900439828634262, 0.09127002954483032, 0.21306583285331726, 0.0870685800909996, 0.9128661155700684, 0.9996060729026794, 0.9999796152114868, 0.29692962765693665, 0.08926556259393692, 0.4637509882450104, 0.15007701516151428, 0.30830541253089905, 0.6916502714157104, 0.8733894228935242, 0.1265573650598526, 0.020577987655997276, 0.4204218089580536, 0.5589852333068848, 0.2225142866373062, 0.23256488144397736, 0.44734326004981995, 0.09758222848176956, 0.05843162164092064, 0.44377946853637695, 0.3102101683616638, 0.06037142500281334, 0.12723524868488312, 0.9997190237045288, 0.9999026656150818, 0.22312046587467194, 0.6990983486175537, 0.07775551825761795, 0.9996264576911926, 0.9997808933258057, 0.9997292757034302, 0.9998161792755127, 0.999941885471344, 0.9998906850814819, 0.08836139738559723, 0.6776431798934937, 0.23390689492225647, 0.9998117089271545, 0.9997937083244324, 0.9997138381004333, 0.9997556805610657, 0.9999204277992249, 0.4130605459213257, 0.4071996212005615, 0.17975285649299622, 0.04188407212495804, 0.9577738642692566, 0.6342268586158752, 0.21204380691051483, 0.1537272334098816, 0.999921977519989, 0.14694587886333466, 0.8530102372169495, 0.0800991877913475, 0.07122522592544556, 0.8486310243606567, 0.24823880195617676, 0.6831818222999573, 0.06857766956090927, 0.6262807250022888, 0.08427771180868149, 0.10951805114746094, 0.17992529273033142, 0.13863633573055267, 0.2971125543117523, 0.05265670269727707, 0.23617573082447052, 0.1429484635591507, 0.1324819177389145, 0.9998575448989868, 0.9995850920677185, 0.06032958999276161, 0.5289304256439209, 0.18225516378879547, 0.034896183758974075, 0.19358235597610474, 0.999687910079956, 0.09903022646903992, 0.9009233117103577, 0.2502429783344269, 0.1705467849969864, 0.22081847488880157, 0.061002977192401886, 0.2973606586456299, 0.21705429255962372, 0.7828035354614258, 0.21346470713615417, 0.10290199518203735, 0.2165704071521759, 0.0423409640789032, 0.22433464229106903, 0.0866488665342331, 0.11373741924762726, 0.9998339414596558, 0.1066090315580368, 0.8932599425315857, 0.9997034072875977, 0.9999196529388428, 0.9996985197067261, 0.999737024307251, 0.8794078230857849, 0.12055328488349915, 0.9997028708457947, 0.27901849150657654, 0.7209339141845703, 0.43226709961891174, 0.5122658610343933, 0.05545187368988991, 0.9997631311416626, 0.6639969348907471, 0.07164084166288376, 0.2293356955051422, 0.03502362594008446, 0.9997435808181763, 0.05964552238583565, 0.45930159091949463, 0.48096969723701477, 0.9996400475502014, 0.999491810798645, 0.15547415614128113, 0.2394922971725464, 0.11625022441148758, 0.13519492745399475, 0.10496464371681213, 0.111202172935009, 0.13742883503437042, 0.9999603033065796, 0.29166075587272644, 0.5408198237419128, 0.16748754680156708, 0.9998458027839661, 0.9998548030853271, 0.15174874663352966, 0.16822433471679688, 0.29716742038726807, 0.313353955745697, 0.06951537728309631, 0.10451170802116394, 0.4640370011329651, 0.4314554035663605, 0.9998224973678589, 0.999599814414978, 0.9999085068702698, 0.9997411966323853, 0.9999662041664124, 0.9999311566352844, 0.9998682737350464, 0.9998390674591064, 0.9999490976333618, 0.9996376037597656, 0.6365355253219604, 0.3633999228477478, 0.9997392892837524, 0.9999144077301025, 0.9628110527992249, 0.03706728667020798, 0.9999867677688599, 0.18572627007961273, 0.6365764141082764, 0.17767977714538574, 0.9998252391815186, 0.9998823404312134, 0.9997581839561462, 0.999663233757019, 0.999954104423523, 0.999880313873291, 0.3055361211299896, 0.24093174934387207, 0.4306442141532898, 0.022824298590421677, 0.9995987415313721, 0.04200642928481102, 0.9377785921096802, 0.020206885412335396, 0.9999874234199524, 0.9998235702514648, 0.2513359487056732, 0.3371855318546295, 0.1077960878610611, 0.09734728932380676, 0.16710007190704346, 0.03921324759721756, 0.3597320318222046, 0.1278916597366333, 0.1247972771525383, 0.054774705320596695, 0.21235932409763336, 0.12044741213321686, 0.9999372363090515, 0.9998874664306641, 0.28487446904182434, 0.669628381729126, 0.04540990665555, 0.9999154806137085, 0.6662046313285828, 0.1956690549850464, 0.10965804010629654, 0.028456581756472588, 0.999839186668396, 0.9995799660682678, 0.8499413132667542, 0.1500822901725769, 0.9999893307685852, 0.9997329711914062, 0.9997323155403137, 0.9995908737182617, 0.9999454021453857, 0.033537931740283966, 0.9663892984390259, 0.6783841848373413, 0.2956058084964752, 0.02596893534064293, 0.8083109855651855, 0.16994361579418182, 0.021734759211540222, 0.02901647612452507, 0.9709235429763794, 0.26455050706863403, 0.7352983355522156, 0.9998641014099121, 0.9999427795410156, 0.9999788999557495, 0.7607595324516296, 0.08225385844707489, 0.08695154637098312, 0.07002214342355728, 0.9996986389160156, 0.9997888207435608, 0.9998560547828674, 0.9995443820953369, 0.9994372129440308, 0.9998463988304138, 0.9999728798866272, 0.9999061226844788, 0.9998814463615417, 0.9998276233673096, 0.9996402859687805, 0.9998443722724915, 0.9999356865882874, 0.12993863224983215, 0.10368674248456955, 0.7664233446121216, 0.9996919631958008, 0.1869477480649948, 0.14145180583000183, 0.5408960580825806, 0.13070403039455414, 0.07361478358507156, 0.5052385926246643, 0.3298564553260803, 0.02688835747539997, 0.06437646597623825, 0.9998829960823059, 0.6967881321907043, 0.30319952964782715, 0.9999272227287292, 0.9995385408401489, 0.00023951051116455346, 0.25956952571868896, 0.46012961864471436, 0.13774847984313965, 0.08544537425041199, 0.05691368505358696, 0.76313316822052, 0.23682165145874023, 0.9999188184738159, 0.9997694492340088, 0.39082828164100647, 0.6091158986091614, 0.9997871518135071, 0.9996367692947388, 0.9997181296348572, 0.1747799962759018, 0.08421383053064346, 0.7410454154014587, 0.9999728202819824, 0.9998745918273926, 0.611118495464325, 0.2609701156616211, 0.07675591856241226, 0.05110328271985054, 0.8768163919448853, 0.12315429002046585, 0.9996496438980103, 0.9999372959136963, 0.9997435212135315, 0.868244469165802, 0.1317296028137207, 0.9997709393501282, 0.5707196593284607, 0.08368770778179169, 0.29025277495384216, 0.005493015516549349, 0.04985257610678673, 0.9998624324798584, 0.3446199893951416, 0.17811627686023712, 0.16963455080986023, 0.3075622320175171, 0.999879777431488, 0.9998370409011841, 0.9999945759773254, 0.8716605305671692, 0.12826189398765564, 0.13456860184669495, 0.45084765553474426, 0.10728345811367035, 0.0829506367444992, 0.09237901121377945, 0.061093952506780624, 0.07085565477609634, 0.9999510645866394, 0.9998193383216858, 0.9997420310974121, 0.5786572694778442, 0.3143695890903473, 0.10687660425901413, 0.999901294708252, 0.9995517730712891, 0.999985933303833, 0.9996823072433472, 0.6805185079574585, 0.25171029567718506, 0.06778638809919357, 0.9998068809509277, 0.9995482563972473, 0.09037069231271744, 0.5007864236831665, 0.08904240280389786, 0.11565550416707993, 0.039374105632305145, 0.07758596539497375, 0.08721601963043213, 0.7601121068000793, 0.14495891332626343, 0.09492093324661255, 0.9998515248298645, 0.9998986124992371, 0.9999505877494812, 0.9999373555183411, 0.9998840093612671, 0.07462918758392334, 0.9252414107322693, 0.999872624874115, 0.9999415278434753, 0.9998323917388916, 0.9997907280921936, 0.7812801003456116, 0.2187207043170929, 0.9999392032623291, 0.8604351878166199, 0.1395062357187271, 0.9997013807296753, 0.9999613761901855, 0.11290431022644043, 0.8869085907936096, 0.6179580688476562, 0.009003566578030586, 0.049842268228530884, 0.32320651412010193, 0.7697254419326782, 0.19520950317382812, 0.03503873571753502, 0.004638951737433672, 0.9953503012657166, 0.19040095806121826, 0.0771731287240982, 0.2018565684556961, 0.12958112359046936, 0.14969760179519653, 0.13409142196178436, 0.11718472093343735, 0.11349691450595856, 0.8675338625907898, 0.018877781927585602, 0.9999205470085144, 0.9996775388717651, 0.21666276454925537, 0.48383286595344543, 0.10052243620157242, 0.061108555644750595, 0.10601236671209335, 0.03186050057411194, 0.9999405145645142, 0.14953731000423431, 0.25501587986946106, 0.2234829217195511, 0.07160507142543793, 0.14099819958209991, 0.15938815474510193], \"Term\": [\"ability\", \"able\", \"able\", \"able\", \"able\", \"able\", \"able\", \"able\", \"accurate\", \"acid\", \"acid\", \"active\", \"activity\", \"adjustable\", \"anti\", \"antiperspirant\", \"appetite\", \"area\", \"area\", \"area\", \"artificial\", \"asleep\", \"attachment\", \"bag\", \"bar\", \"bathroom\", \"bathroom\", \"battery\", \"bean\", \"beard\", \"belly\", \"benefit\", \"benefit\", \"benefit\", \"blade\", \"blend\", \"blood\", \"body\", \"body\", \"body\", \"body\", \"bone\", \"booster\", \"bottle\", \"bottle\", \"bottle\", \"bottle\", \"bottle\", \"bowl\", \"brace\", \"brain\", \"brand\", \"brand\", \"brand\", \"brand\", \"braun\", \"brush\", \"brush\", \"brushing\", \"bulk\", \"bulksupplement\", \"bulksupplement\", \"button\", \"caffeine\", \"calcium\", \"calorie\", \"capsule\", \"carpet\", \"chair\", \"change\", \"change\", \"change\", \"change\", \"charge\", \"charge\", \"cheap\", \"cheap\", \"cheap\", \"cheap\", \"chemical\", \"chocolate\", \"clean\", \"clean\", \"cleaner\", \"cleaning\", \"cleaning\", \"cleanse\", \"clipper\", \"close\", \"cloth\", \"clothe\", \"clothing\", \"coffee\", \"coffee\", \"coffee\", \"cold\", \"colon\", \"color\", \"color\", \"color\", \"color\", \"container\", \"container\", \"cord\", \"cough\", \"couple\", \"couple\", \"craving\", \"cream\", \"cream\", \"customer\", \"daily\", \"daily\", \"daily\", \"daily\", \"daily\", \"date\", \"day\", \"day\", \"day\", \"day\", \"dentist\", \"deodorant\", \"detergent\", \"device\", \"device\", \"dial\", \"diet\", \"diet\", \"difference\", \"difference\", \"difference\", \"difference\", \"difference\", \"difference\", \"digital\", \"dinner\", \"direction\", \"direction\", \"dirty\", \"dish\", \"dishwasher\", \"display\", \"doctor\", \"doctor\", \"dosage\", \"dose\", \"drink\", \"drug\", \"easy\", \"easy\", \"easy\", \"easy\", \"easy\", \"effect\", \"electric\", \"energy\", \"epilator\", \"essential\", \"excited\", \"exercise\", \"exercise\", \"exercise\", \"eye\", \"face\", \"fiber\", \"finish\", \"first\", \"first\", \"fish\", \"flavor\", \"floor\", \"foam\", \"follow\", \"food\", \"foot\", \"form\", \"fragrance\", \"free\", \"free\", \"free\", \"free\", \"free\", \"free\", \"fresh\", \"fresh\", \"fresh\", \"fresh\", \"fruit\", \"full\", \"full\", \"full\", \"full\", \"full\", \"full\", \"fusion\", \"gain\", \"give\", \"glass\", \"glass\", \"goal\", \"goal\", \"good\", \"good\", \"good\", \"good\", \"good\", \"good\", \"great\", \"great\", \"great\", \"great\", \"great\", \"great\", \"green\", \"green\", \"gummie\", \"hair\", \"hand\", \"hand\", \"hand\", \"hand\", \"head\", \"head\", \"health\", \"health\", \"healthy\", \"healthy\", \"healthy\", \"help\", \"help\", \"help\", \"help\", \"high\", \"high\", \"high\", \"high\", \"high\", \"holder\", \"honest\", \"hour\", \"hour\", \"hour\", \"hunger\", \"hungry\", \"immune\", \"increase\", \"ingredient\", \"instruction\", \"item\", \"item\", \"item\", \"jittery\", \"joint\", \"ketone\", \"kitchen\", \"knee\", \"large\", \"large\", \"large\", \"laser\", \"laser\", \"last\", \"last\", \"last\", \"laundry\", \"leg\", \"leg\", \"length\", \"length\", \"length\", \"level\", \"level\", \"level\", \"light\", \"light\", \"light\", \"light\", \"little\", \"little\", \"little\", \"little\", \"little\", \"little\", \"load\", \"local\", \"long\", \"long\", \"long\", \"long\", \"long\", \"lose\", \"loss\", \"loss\", \"love\", \"love\", \"love\", \"love\", \"love\", \"machine\", \"machine\", \"many\", \"many\", \"many\", \"many\", \"many\", \"many\", \"many\", \"mask\", \"meal\", \"meal\", \"medication\", \"metabolism\", \"mild\", \"milk\", \"minute\", \"minute\", \"miracle\", \"model\", \"model\", \"money\", \"money\", \"money\", \"monitor\", \"month\", \"month\", \"month\", \"month\", \"mood\", \"morning\", \"morning\", \"morning\", \"mouthwash\", \"movement\", \"much\", \"much\", \"much\", \"much\", \"much\", \"much\", \"much\", \"muscle\", \"natural\", \"natural\", \"natural\", \"neck\", \"next\", \"nice\", \"nice\", \"nice\", \"nice\", \"nice\", \"night\", \"night\", \"night\", \"nose\", \"nutrition\", \"odor\", \"oil\", \"omega\", \"oral\", \"packaging\", \"packet\", \"pain\", \"panasonic\", \"paper\", \"paper\", \"period\", \"personal\", \"phone\", \"phone\", \"pill\", \"plastic\", \"plastic\", \"plastic\", \"plate\", \"pleasant\", \"plug\", \"pod\", \"pound\", \"powder\", \"power\", \"power\", \"power\", \"power\", \"prescription\", \"pressure\", \"pressure\", \"pressure\", \"price\", \"probiotic\", \"problem\", \"problem\", \"problem\", \"problem\", \"problem\", \"problem\", \"product\", \"product\", \"product\", \"product\", \"product\", \"product\", \"protection\", \"protein\", \"purchase\", \"purchase\", \"purchase\", \"pure\", \"quality\", \"quality\", \"quality\", \"quality\", \"range\", \"raspberry\", \"rate\", \"rate\", \"razor\", \"reading\", \"reasonable\", \"reduction\", \"relief\", \"research\", \"research\", \"result\", \"result\", \"result\", \"review\", \"review\", \"review\", \"roll\", \"roll\", \"room\", \"room\", \"save\", \"scale\", \"scent\", \"second\", \"second\", \"second\", \"second\", \"seller\", \"sense\", \"service\", \"session\", \"shake\", \"sharp\", \"shave\", \"shaver\", \"shaving\", \"sheet\", \"shipping\", \"shirt\", \"shoe\", \"shower\", \"shower\", \"shower\", \"sick\", \"side\", \"side\", \"side\", \"side\", \"size\", \"size\", \"size\", \"size\", \"size\", \"skeptical\", \"skin\", \"skin\", \"sleep\", \"slow\", \"small\", \"small\", \"small\", \"small\", \"small\", \"small\", \"smell\", \"smell\", \"smooth\", \"snack\", \"soft\", \"soft\", \"sonicare\", \"sore\", \"sound\", \"speed\", \"speed\", \"speed\", \"stain\", \"step\", \"stick\", \"stick\", \"stick\", \"stick\", \"stomach\", \"stomach\", \"stop\", \"store\", \"strap\", \"strength\", \"strength\", \"stress\", \"strong\", \"strong\", \"strong\", \"strong\", \"strong\", \"study\", \"stuff\", \"stuff\", \"stuff\", \"stuff\", \"sugar\", \"summer\", \"supplement\", \"support\", \"support\", \"sure\", \"sure\", \"sure\", \"sure\", \"sure\", \"sure\", \"sure\", \"surface\", \"swallow\", \"sweet\", \"system\", \"system\", \"system\", \"tablet\", \"tank\", \"taste\", \"ten\", \"test\", \"test\", \"test\", \"texture\", \"thermometer\", \"thing\", \"thing\", \"thing\", \"thing\", \"thing\", \"thing\", \"thing\", \"time\", \"time\", \"time\", \"tissue\", \"toilet\", \"tooth\", \"toothbrush\", \"toothpaste\", \"towel\", \"towel\", \"track\", \"trimmer\", \"tube\", \"turmeric\", \"unit\", \"unit\", \"update\", \"value\", \"value\", \"vibration\", \"vitamin\", \"wash\", \"wash\", \"water\", \"water\", \"water\", \"water\", \"week\", \"week\", \"week\", \"weight\", \"weight\", \"well\", \"well\", \"well\", \"well\", \"well\", \"well\", \"well\", \"white\", \"white\", \"white\", \"wipe\", \"wonder\", \"work\", \"work\", \"work\", \"work\", \"work\", \"work\", \"workout\", \"year\", \"year\", \"year\", \"year\", \"year\", \"year\"]}, \"R\": 30, \"lambda.step\": 0.01, \"plot.opts\": {\"xlab\": \"PC1\", \"ylab\": \"PC2\"}, \"topic.order\": [5, 3, 4, 2, 1, 6, 7]};\n",
       "\n",
       "function LDAvis_load_lib(url, callback){\n",
       "  var s = document.createElement('script');\n",
       "  s.src = url;\n",
       "  s.async = true;\n",
       "  s.onreadystatechange = s.onload = callback;\n",
       "  s.onerror = function(){console.warn(\"failed to load library \" + url);};\n",
       "  document.getElementsByTagName(\"head\")[0].appendChild(s);\n",
       "}\n",
       "\n",
       "if(typeof(LDAvis) !== \"undefined\"){\n",
       "   // already loaded: just create the visualization\n",
       "   !function(LDAvis){\n",
       "       new LDAvis(\"#\" + \"ldavis_el1187624856078264402662272506\", ldavis_el1187624856078264402662272506_data);\n",
       "   }(LDAvis);\n",
       "}else if(typeof define === \"function\" && define.amd){\n",
       "   // require.js is available: use it to load d3/LDAvis\n",
       "   require.config({paths: {d3: \"https://cdnjs.cloudflare.com/ajax/libs/d3/3.5.5/d3.min\"}});\n",
       "   require([\"d3\"], function(d3){\n",
       "      window.d3 = d3;\n",
       "      LDAvis_load_lib(\"https://cdn.rawgit.com/bmabey/pyLDAvis/files/ldavis.v1.0.0.js\", function(){\n",
       "        new LDAvis(\"#\" + \"ldavis_el1187624856078264402662272506\", ldavis_el1187624856078264402662272506_data);\n",
       "      });\n",
       "    });\n",
       "}else{\n",
       "    // require.js not available: dynamically load d3 & LDAvis\n",
       "    LDAvis_load_lib(\"https://cdnjs.cloudflare.com/ajax/libs/d3/3.5.5/d3.min.js\", function(){\n",
       "         LDAvis_load_lib(\"https://cdn.rawgit.com/bmabey/pyLDAvis/files/ldavis.v1.0.0.js\", function(){\n",
       "                 new LDAvis(\"#\" + \"ldavis_el1187624856078264402662272506\", ldavis_el1187624856078264402662272506_data);\n",
       "            })\n",
       "         });\n",
       "}\n",
       "</script>"
      ],
      "text/plain": [
       "PreparedData(topic_coordinates=              x         y  topics  cluster       Freq\n",
       "topic                                                \n",
       "4      0.045504  0.035412       1        1  17.401510\n",
       "2     -0.046115 -0.268731       2        1  17.190695\n",
       "3     -0.071220 -0.027880       3        1  16.487431\n",
       "1     -0.133961  0.189734       4        1  14.014909\n",
       "0      0.221839 -0.138673       5        1  13.648600\n",
       "5     -0.230453  0.010934       6        1  10.995737\n",
       "6      0.214406  0.199203       7        1  10.261118, topic_info=     Category           Freq        Term          Total  loglift  logprob\n",
       "269   Default   59280.000000      weight   59280.000000  30.0000  30.0000\n",
       "1144  Default   52303.000000  supplement   52303.000000  29.0000  29.0000\n",
       "24    Default   87293.000000        time   87293.000000  28.0000  28.0000\n",
       "352   Default   46521.000000       clean   46521.000000  27.0000  27.0000\n",
       "2353  Default   32915.000000       scent   32915.000000  26.0000  26.0000\n",
       "234   Default   35658.000000        pill   35658.000000  25.0000  25.0000\n",
       "100   Default   38742.000000       price   38742.000000  24.0000  24.0000\n",
       "355   Default   30634.000000       razor   30634.000000  23.0000  23.0000\n",
       "400   Default   30002.000000        hair   30002.000000  22.0000  22.0000\n",
       "629   Default   30740.000000      energy   30740.000000  21.0000  21.0000\n",
       "90    Default   32354.000000     battery   32354.000000  20.0000  20.0000\n",
       "178   Default  214259.000000     product  214259.000000  19.0000  19.0000\n",
       "4078  Default   25366.000000     vitamin   25366.000000  18.0000  18.0000\n",
       "158   Default   45264.000000        week   45264.000000  17.0000  17.0000\n",
       "5123  Default   21836.000000       pound   21836.000000  16.0000  16.0000\n",
       "1272  Default   23831.000000        loss   23831.000000  15.0000  15.0000\n",
       "1379  Default   23600.000000      effect   23600.000000  14.0000  14.0000\n",
       "412   Default   36088.000000        skin   36088.000000  13.0000  13.0000\n",
       "366   Default   19928.000000       shave   19928.000000  12.0000  12.0000\n",
       "3199  Default   18632.000000       taste   18632.000000  11.0000  11.0000\n",
       "42    Default   28989.000000       first   28989.000000  10.0000  10.0000\n",
       "1367  Default   19929.000000       tooth   19929.000000   9.0000   9.0000\n",
       "416   Default   32542.000000       water   32542.000000   8.0000   8.0000\n",
       "1898  Default   16847.000000        food   16847.000000   7.0000   7.0000\n",
       "359   Default   17266.000000       blade   17266.000000   6.0000   6.0000\n",
       "19    Default   31516.000000      review   31516.000000   5.0000   5.0000\n",
       "1163  Default   20907.000000        pain   20907.000000   4.0000   4.0000\n",
       "1107  Default   32269.000000      result   32269.000000   3.0000   3.0000\n",
       "373   Default   21601.000000        head   21601.000000   2.0000   2.0000\n",
       "44    Default  119671.000000        good  119671.000000   1.0000   1.0000\n",
       "...       ...            ...         ...            ...      ...      ...\n",
       "3670   Topic7    2933.592529   chocolate    2934.337402   2.2766  -5.6379\n",
       "3693   Topic7    2742.516602  artificial    2743.263428   2.2765  -5.7052\n",
       "5147   Topic7    2558.210449      hunger    2558.955811   2.2765  -5.7748\n",
       "3498   Topic7    2541.743408     texture    2542.490967   2.2765  -5.7812\n",
       "2680   Topic7    2529.968750       blend    2530.715576   2.2765  -5.7859\n",
       "2048   Topic7    2394.321045        tank    2395.073486   2.2765  -5.8410\n",
       "5192   Topic7    2319.181885   nutrition    2319.928467   2.2765  -5.8729\n",
       "5135   Topic7    2155.107666         bar    2155.853516   2.2765  -5.9462\n",
       "2103   Topic7    2138.458496       shake    2139.203857   2.2765  -5.9540\n",
       "8101   Topic7    2105.953369         pod    2106.709473   2.2764  -5.9693\n",
       "6100   Topic7    1975.084473   raspberry    1975.829956   2.2764  -6.0335\n",
       "4931   Topic7    1964.467896        gain    1965.215698   2.2764  -6.0389\n",
       "269    Topic7   59004.617188      weight   59280.636719   2.2721  -2.6365\n",
       "1272   Topic7   21470.449219        loss   23831.107422   2.1725  -3.6474\n",
       "696    Topic7    8765.093750       green    9601.626953   2.1857  -4.5433\n",
       "2176   Topic7    7365.100098        meal    8245.080078   2.1639  -4.7173\n",
       "4706   Topic7    3513.065186        goal    3887.120850   2.1756  -5.4576\n",
       "4250   Topic7   10196.060547        diet   14484.312500   1.9257  -4.3921\n",
       "1578   Topic7    4984.604004        acid    6619.333984   1.9932  -5.1077\n",
       "1035   Topic7    6821.683105      coffee   10308.568359   1.8639  -4.7940\n",
       "2633   Topic7    7442.658691     healthy   13315.199219   1.6951  -4.7069\n",
       "4875   Topic7    5331.523926    exercise    8765.125000   1.7797  -5.0405\n",
       "1      Topic7   20109.167969       great   94379.281250   0.7307  -3.7129\n",
       "44     Topic7   21828.742188        good  119671.914062   0.5753  -3.6309\n",
       "416    Topic7   10518.352539       water   32542.660156   1.1474  -4.3610\n",
       "178    Topic7   25807.447266     product  214259.484375   0.1603  -3.4634\n",
       "1266   Topic7    9175.184570        body   31101.691406   1.0560  -4.4976\n",
       "686    Topic7    7731.335449        love   25998.730469   1.0640  -4.6688\n",
       "5      Topic7    6544.148438      little   49395.421875   0.2555  -4.8355\n",
       "165    Topic7    5403.163086       stuff   17567.175781   1.0978  -5.0271\n",
       "\n",
       "[406 rows x 6 columns], token_table=      Topic      Freq            Term\n",
       "term                                 \n",
       "557       2  0.999885         ability\n",
       "242       1  0.025676            able\n",
       "242       2  0.544365            able\n",
       "242       3  0.162852            able\n",
       "242       4  0.056760            able\n",
       "242       5  0.132005            able\n",
       "242       6  0.070609            able\n",
       "242       7  0.007786            able\n",
       "2477      3  0.999935        accurate\n",
       "1578      1  0.246853            acid\n",
       "1578      7  0.753097            acid\n",
       "1138      1  0.999916          active\n",
       "1738      3  0.999883        activity\n",
       "1364      4  0.999522      adjustable\n",
       "2413      1  0.999834            anti\n",
       "3475      1  0.999909  antiperspirant\n",
       "5879      7  0.999887        appetite\n",
       "89        1  0.188953            area\n",
       "89        4  0.256350            area\n",
       "89        6  0.554683            area\n",
       "3693      7  0.999904      artificial\n",
       "3133      5  0.999707          asleep\n",
       "782       6  0.999777      attachment\n",
       "1045      3  0.999860             bag\n",
       "5135      7  0.999604             bar\n",
       "1374      2  0.174496        bathroom\n",
       "1374      4  0.825402        bathroom\n",
       "90        3  0.999968         battery\n",
       "2134      5  0.999876            bean\n",
       "2994      6  0.999912           beard\n",
       "...     ...       ...             ...\n",
       "158       2  0.769725            week\n",
       "158       5  0.195210            week\n",
       "158       6  0.035039            week\n",
       "269       6  0.004639          weight\n",
       "269       7  0.995350          weight\n",
       "67        1  0.190401            well\n",
       "67        2  0.077173            well\n",
       "67        3  0.201857            well\n",
       "67        4  0.129581            well\n",
       "67        5  0.149698            well\n",
       "67        6  0.134091            well\n",
       "67        7  0.117185            well\n",
       "2110      1  0.113497           white\n",
       "2110      4  0.867534           white\n",
       "2110      7  0.018878           white\n",
       "3580      2  0.999921            wipe\n",
       "914       2  0.999678          wonder\n",
       "79        1  0.216663            work\n",
       "79        2  0.483833            work\n",
       "79        3  0.100522            work\n",
       "79        4  0.061109            work\n",
       "79        5  0.106012            work\n",
       "79        6  0.031861            work\n",
       "2128      7  0.999941         workout\n",
       "253       1  0.149537            year\n",
       "253       2  0.255016            year\n",
       "253       3  0.223483            year\n",
       "253       4  0.071605            year\n",
       "253       5  0.140998            year\n",
       "253       6  0.159388            year\n",
       "\n",
       "[605 rows x 3 columns], R=30, lambda_step=0.01, plot_opts={'xlab': 'PC1', 'ylab': 'PC2'}, topic_order=[5, 3, 4, 2, 1, 6, 7])"
      ]
     },
     "execution_count": 23,
     "metadata": {},
     "output_type": "execute_result"
    }
   ],
   "source": [
    "pyLDAvis.enable_notebook()\n",
    "vis = pyLDAvis.gensim.prepare(lda_model, doc_term_matrix, dictionary)\n",
    "vis"
   ]
  }
 ],
 "metadata": {
  "kernelspec": {
   "display_name": "Python 3",
   "language": "python",
   "name": "python3"
  },
  "language_info": {
   "codemirror_mode": {
    "name": "ipython",
    "version": 3
   },
   "file_extension": ".py",
   "mimetype": "text/x-python",
   "name": "python",
   "nbconvert_exporter": "python",
   "pygments_lexer": "ipython3",
   "version": "3.7.1"
  }
 },
 "nbformat": 4,
 "nbformat_minor": 2
}
